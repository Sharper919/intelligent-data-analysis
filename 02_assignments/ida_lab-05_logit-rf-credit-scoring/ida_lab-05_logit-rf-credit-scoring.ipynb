{
 "cells": [
  {
   "cell_type": "markdown",
   "metadata": {},
   "source": [
    "<h1><center>Лабораторна робота 5.</center></h1>\n",
    "<h2><center>Логістична регресія й випадковий ліс в задачі кредитного скорингу</center></h2>"
   ]
  },
  {
   "cell_type": "markdown",
   "metadata": {},
   "source": [
    "**Виконав:** Прізвище І.П.\n",
    "\n",
    "**Варіант:** №__"
   ]
  },
  {
   "cell_type": "markdown",
   "metadata": {},
   "source": [
    "<a class=\"anchor\" id=\"lab-5\"></a>"
   ]
  },
  {
   "cell_type": "markdown",
   "metadata": {},
   "source": [
    "## Зміст \n",
    "\n",
    "- [5.1. Завантаження навчальних даних](#lab-5.1)\n",
    "- [5.2. Бутстреп](#lab-5.2)  \n",
    "- [5.3. Підбір параметрів для моделі логістичної регресії](#lab-5.3)\n",
    "- [5.4. Визначення впливу ознак](#lab-5.4)\n",
    "- [5.5. Створення моделі випадкового лісу](#lab-5.5)\n",
    "- [5.6. Беггінг](#lab-5.6)"
   ]
  },
  {
   "cell_type": "markdown",
   "metadata": {},
   "source": [
    "Головним завданням цієї лабораторної роботи є побудова моделі на основі машинного навчання (МН) для задачі кредитного скорингу."
   ]
  },
  {
   "cell_type": "markdown",
   "metadata": {},
   "source": [
    "<a class=\"anchor\" id=\"lab-5.1\"></a>"
   ]
  },
  {
   "cell_type": "markdown",
   "metadata": {},
   "source": [
    "## <span style=\"color:blue; font-size:1.2em;\">5.1. Завантаження навчальних даних</span>\n",
    "\n",
    "[Повернутися до змісту](#lab-5)"
   ]
  },
  {
   "cell_type": "markdown",
   "metadata": {},
   "source": [
    "Змінна, значення якої прогнозується, $Y$:\n",
    "\n",
    " - SeriousDlqin2yrs – стан невиплати людиною кредиту впроводж наступних 90 днів; можливі значення: 1 – клієнт оплачує кредит із запізненням або не виплачує взагалі, 0 – клієнт оплачує кредит вчасно. \n",
    "\n",
    "Незалежні ознаки, $X$:\n",
    "\n",
    " - age – вік позичальника кредитних коштів; тип – integer;\n",
    " - NumberOfTime30-59DaysPastDueNotWorse – кількість прострочених виплат інших кредитів більше 30-59 днів тому, але не більше впродовж останніх двох років; тип – integer;\n",
    " - DebtRatio – відношення щомісячного відрахування щодо заборгованості (кредити, аліменти тощо) до сукупного місячного доходу (percentage); тип – real;\n",
    " - MonthlyIncome – місячний дохід в доларах; тип – real;\n",
    " - NumberOfTimes90DaysLate – кількість прострочених виплат інших кредитів більше 90 днів; тип – integer;\n",
    " - NumberOfTime60-89DaysPastDueNotWorse – кількість прострочених виплат інших кредитів більш 60-89 днів, але не більше впродовж останніх двох років; тип – integer;\n",
    " - NumberOfDependents – кількість членів сім'ї позичальника; тип – integer."
   ]
  },
  {
   "cell_type": "code",
   "execution_count": 1,
   "metadata": {
    "ExecuteTime": {
     "end_time": "2023-11-21T16:17:45.092082500Z",
     "start_time": "2023-11-21T16:17:45.062974400Z"
    }
   },
   "outputs": [],
   "source": [
    "%matplotlib inline\n",
    "import matplotlib.pyplot as plt\n",
    "import seaborn as sns\n",
    "\n",
    "# Відключимо попередження Anaconda\n",
    "import warnings\n",
    "warnings.filterwarnings('ignore')\n",
    "import pandas as pd\n",
    "import numpy as np"
   ]
  },
  {
   "cell_type": "code",
   "execution_count": 2,
   "metadata": {
    "ExecuteTime": {
     "end_time": "2023-11-21T16:17:45.111708Z",
     "start_time": "2023-11-21T16:17:45.093589800Z"
    }
   },
   "outputs": [],
   "source": [
    "# Задамо графіки у форматі .svg, щоби вони мали кращу чіткість\n",
    "%config InlineBackend.figure_format = 'svg' \n",
    "\n",
    "# Підвищимо розмір графіків за замовчуванням\n",
    "plt.style.use('ggplot')\n",
    "plt.rcParams['figure.figsize'] = 7, 5"
   ]
  },
  {
   "cell_type": "markdown",
   "metadata": {},
   "source": [
    "Створимо функцію, яка буде замінювати NaN значення на медіану в кожному стовпчику таблиці:"
   ]
  },
  {
   "cell_type": "code",
   "execution_count": 3,
   "metadata": {
    "ExecuteTime": {
     "end_time": "2023-11-21T16:17:45.138011300Z",
     "start_time": "2023-11-21T16:17:45.111708Z"
    }
   },
   "outputs": [],
   "source": [
    "def delete_nan(table):\n",
    "    for col in table.columns:\n",
    "        table[col]= table[col].fillna(table[col].median())\n",
    "    return table   "
   ]
  },
  {
   "cell_type": "markdown",
   "metadata": {},
   "source": [
    "Завантажуємо дані для подальшого навчання:"
   ]
  },
  {
   "cell_type": "code",
   "execution_count": 4,
   "metadata": {
    "ExecuteTime": {
     "end_time": "2023-11-21T16:17:46.111524200Z",
     "start_time": "2023-11-21T16:17:45.124492400Z"
    }
   },
   "outputs": [
    {
     "data": {
      "text/plain": "   SeriousDlqin2yrs  age  NumberOfTime30-59DaysPastDueNotWorse    DebtRatio  \\\n0                 0   64                                     0     0.249908   \n1                 0   58                                     0  3870.000000   \n2                 0   41                                     0     0.456127   \n3                 0   43                                     0     0.000190   \n4                 1   49                                     0     0.271820   \n\n   NumberOfTimes90DaysLate  NumberOfTime60-89DaysPastDueNotWorse  \\\n0                        0                                     0   \n1                        0                                     0   \n2                        0                                     0   \n3                        0                                     0   \n4                        0                                     0   \n\n   MonthlyIncome  NumberOfDependents  \n0         8158.0                 0.0  \n1            NaN                 0.0  \n2         6666.0                 0.0  \n3        10500.0                 2.0  \n4          400.0                 0.0  ",
      "text/html": "<div>\n<style scoped>\n    .dataframe tbody tr th:only-of-type {\n        vertical-align: middle;\n    }\n\n    .dataframe tbody tr th {\n        vertical-align: top;\n    }\n\n    .dataframe thead th {\n        text-align: right;\n    }\n</style>\n<table border=\"1\" class=\"dataframe\">\n  <thead>\n    <tr style=\"text-align: right;\">\n      <th></th>\n      <th>SeriousDlqin2yrs</th>\n      <th>age</th>\n      <th>NumberOfTime30-59DaysPastDueNotWorse</th>\n      <th>DebtRatio</th>\n      <th>NumberOfTimes90DaysLate</th>\n      <th>NumberOfTime60-89DaysPastDueNotWorse</th>\n      <th>MonthlyIncome</th>\n      <th>NumberOfDependents</th>\n    </tr>\n  </thead>\n  <tbody>\n    <tr>\n      <th>0</th>\n      <td>0</td>\n      <td>64</td>\n      <td>0</td>\n      <td>0.249908</td>\n      <td>0</td>\n      <td>0</td>\n      <td>8158.0</td>\n      <td>0.0</td>\n    </tr>\n    <tr>\n      <th>1</th>\n      <td>0</td>\n      <td>58</td>\n      <td>0</td>\n      <td>3870.000000</td>\n      <td>0</td>\n      <td>0</td>\n      <td>NaN</td>\n      <td>0.0</td>\n    </tr>\n    <tr>\n      <th>2</th>\n      <td>0</td>\n      <td>41</td>\n      <td>0</td>\n      <td>0.456127</td>\n      <td>0</td>\n      <td>0</td>\n      <td>6666.0</td>\n      <td>0.0</td>\n    </tr>\n    <tr>\n      <th>3</th>\n      <td>0</td>\n      <td>43</td>\n      <td>0</td>\n      <td>0.000190</td>\n      <td>0</td>\n      <td>0</td>\n      <td>10500.0</td>\n      <td>2.0</td>\n    </tr>\n    <tr>\n      <th>4</th>\n      <td>1</td>\n      <td>49</td>\n      <td>0</td>\n      <td>0.271820</td>\n      <td>0</td>\n      <td>0</td>\n      <td>400.0</td>\n      <td>0.0</td>\n    </tr>\n  </tbody>\n</table>\n</div>"
     },
     "execution_count": 4,
     "metadata": {},
     "output_type": "execute_result"
    }
   ],
   "source": [
    "credit_scoring_url = 'https://raw.githubusercontent.com/radiukpavlo/intelligent-data-analysis/main/02_assignments/ida_lab-05_logit-rf-credit-scoring/credit_scoring_sample.csv'\n",
    "\n",
    "data = pd.read_csv(credit_scoring_url, sep =';')\n",
    "data.head()"
   ]
  },
  {
   "cell_type": "markdown",
   "metadata": {},
   "source": [
    "Розглянемо типи завантажених даних:"
   ]
  },
  {
   "cell_type": "code",
   "execution_count": 5,
   "metadata": {
    "ExecuteTime": {
     "end_time": "2023-11-21T16:17:46.143103400Z",
     "start_time": "2023-11-21T16:17:46.107527900Z"
    }
   },
   "outputs": [
    {
     "data": {
      "text/plain": "SeriousDlqin2yrs                          int64\nage                                       int64\nNumberOfTime30-59DaysPastDueNotWorse      int64\nDebtRatio                               float64\nNumberOfTimes90DaysLate                   int64\nNumberOfTime60-89DaysPastDueNotWorse      int64\nMonthlyIncome                           float64\nNumberOfDependents                      float64\ndtype: object"
     },
     "execution_count": 5,
     "metadata": {},
     "output_type": "execute_result"
    }
   ],
   "source": [
    "data.dtypes"
   ]
  },
  {
   "cell_type": "markdown",
   "metadata": {},
   "source": [
    "Переглянемо розподіл класів у цільовій змінні:"
   ]
  },
  {
   "cell_type": "code",
   "execution_count": 6,
   "metadata": {
    "ExecuteTime": {
     "end_time": "2023-11-21T16:17:46.450060800Z",
     "start_time": "2023-11-21T16:17:46.125097600Z"
    }
   },
   "outputs": [
    {
     "name": "stdout",
     "output_type": "stream",
     "text": [
      "Distribution of target\n"
     ]
    },
    {
     "data": {
      "text/plain": "0    0.777511\n1    0.222489\nName: SeriousDlqin2yrs, dtype: float64"
     },
     "execution_count": 6,
     "metadata": {},
     "output_type": "execute_result"
    },
    {
     "data": {
      "text/plain": "<Figure size 700x500 with 1 Axes>",
      "image/svg+xml": "<?xml version=\"1.0\" encoding=\"utf-8\" standalone=\"no\"?>\n<!DOCTYPE svg PUBLIC \"-//W3C//DTD SVG 1.1//EN\"\n  \"http://www.w3.org/Graphics/SVG/1.1/DTD/svg11.dtd\">\n<svg xmlns:xlink=\"http://www.w3.org/1999/xlink\" width=\"440.874375pt\" height=\"339.173188pt\" viewBox=\"0 0 440.874375 339.173188\" xmlns=\"http://www.w3.org/2000/svg\" version=\"1.1\">\n <metadata>\n  <rdf:RDF xmlns:dc=\"http://purl.org/dc/elements/1.1/\" xmlns:cc=\"http://creativecommons.org/ns#\" xmlns:rdf=\"http://www.w3.org/1999/02/22-rdf-syntax-ns#\">\n   <cc:Work>\n    <dc:type rdf:resource=\"http://purl.org/dc/dcmitype/StillImage\"/>\n    <dc:date>2023-11-21T18:17:46.390591</dc:date>\n    <dc:format>image/svg+xml</dc:format>\n    <dc:creator>\n     <cc:Agent>\n      <dc:title>Matplotlib v3.6.2, https://matplotlib.org/</dc:title>\n     </cc:Agent>\n    </dc:creator>\n   </cc:Work>\n  </rdf:RDF>\n </metadata>\n <defs>\n  <style type=\"text/css\">*{stroke-linejoin: round; stroke-linecap: butt}</style>\n </defs>\n <g id=\"figure_1\">\n  <g id=\"patch_1\">\n   <path d=\"M 0 339.173188 \nL 440.874375 339.173188 \nL 440.874375 -0 \nL 0 -0 \nz\n\" style=\"fill: #ffffff\"/>\n  </g>\n  <g id=\"axes_1\">\n   <g id=\"patch_2\">\n    <path d=\"M 43.074375 300.70725 \nL 433.674375 300.70725 \nL 433.674375 23.50725 \nL 43.074375 23.50725 \nz\n\" style=\"fill: #e5e5e5\"/>\n   </g>\n   <g id=\"matplotlib.axis_1\">\n    <g id=\"xtick_1\">\n     <g id=\"line2d_1\">\n      <path d=\"M 43.074375 300.70725 \nL 43.074375 23.50725 \n\" clip-path=\"url(#p05ba3525bb)\" style=\"fill: none; stroke: #ffffff; stroke-width: 0.8; stroke-linecap: round\"/>\n     </g>\n     <g id=\"text_1\">\n      <!-- 0 -->\n      <g style=\"fill: #555555\" transform=\"translate(40.293906 314.865063) scale(0.1 -0.1)\">\n       <defs>\n        <path id=\"ArialMT-30\" d=\"M 266 2259 \nQ 266 3072 433 3567 \nQ 600 4063 929 4331 \nQ 1259 4600 1759 4600 \nQ 2128 4600 2406 4451 \nQ 2684 4303 2865 4023 \nQ 3047 3744 3150 3342 \nQ 3253 2941 3253 2259 \nQ 3253 1453 3087 958 \nQ 2922 463 2592 192 \nQ 2263 -78 1759 -78 \nQ 1097 -78 719 397 \nQ 266 969 266 2259 \nz\nM 844 2259 \nQ 844 1131 1108 757 \nQ 1372 384 1759 384 \nQ 2147 384 2411 759 \nQ 2675 1134 2675 2259 \nQ 2675 3391 2411 3762 \nQ 2147 4134 1753 4134 \nQ 1366 4134 1134 3806 \nQ 844 3388 844 2259 \nz\n\" transform=\"scale(0.015625)\"/>\n       </defs>\n       <use xlink:href=\"#ArialMT-30\"/>\n      </g>\n     </g>\n    </g>\n    <g id=\"xtick_2\">\n     <g id=\"line2d_2\">\n      <path d=\"M 96.161112 300.70725 \nL 96.161112 23.50725 \n\" clip-path=\"url(#p05ba3525bb)\" style=\"fill: none; stroke: #ffffff; stroke-width: 0.8; stroke-linecap: round\"/>\n     </g>\n     <g id=\"text_2\">\n      <!-- 5000 -->\n      <g style=\"fill: #555555\" transform=\"translate(85.039237 314.865063) scale(0.1 -0.1)\">\n       <defs>\n        <path id=\"ArialMT-35\" d=\"M 266 1200 \nL 856 1250 \nQ 922 819 1161 601 \nQ 1400 384 1738 384 \nQ 2144 384 2425 690 \nQ 2706 997 2706 1503 \nQ 2706 1984 2436 2262 \nQ 2166 2541 1728 2541 \nQ 1456 2541 1237 2417 \nQ 1019 2294 894 2097 \nL 366 2166 \nL 809 4519 \nL 3088 4519 \nL 3088 3981 \nL 1259 3981 \nL 1013 2750 \nQ 1425 3038 1878 3038 \nQ 2478 3038 2890 2622 \nQ 3303 2206 3303 1553 \nQ 3303 931 2941 478 \nQ 2500 -78 1738 -78 \nQ 1113 -78 717 272 \nQ 322 622 266 1200 \nz\n\" transform=\"scale(0.015625)\"/>\n       </defs>\n       <use xlink:href=\"#ArialMT-35\"/>\n       <use xlink:href=\"#ArialMT-30\" x=\"55.615234\"/>\n       <use xlink:href=\"#ArialMT-30\" x=\"111.230469\"/>\n       <use xlink:href=\"#ArialMT-30\" x=\"166.845703\"/>\n      </g>\n     </g>\n    </g>\n    <g id=\"xtick_3\">\n     <g id=\"line2d_3\">\n      <path d=\"M 149.247849 300.70725 \nL 149.247849 23.50725 \n\" clip-path=\"url(#p05ba3525bb)\" style=\"fill: none; stroke: #ffffff; stroke-width: 0.8; stroke-linecap: round\"/>\n     </g>\n     <g id=\"text_3\">\n      <!-- 10000 -->\n      <g style=\"fill: #555555\" transform=\"translate(135.345505 314.865063) scale(0.1 -0.1)\">\n       <defs>\n        <path id=\"ArialMT-31\" d=\"M 2384 0 \nL 1822 0 \nL 1822 3584 \nQ 1619 3391 1289 3197 \nQ 959 3003 697 2906 \nL 697 3450 \nQ 1169 3672 1522 3987 \nQ 1875 4303 2022 4600 \nL 2384 4600 \nL 2384 0 \nz\n\" transform=\"scale(0.015625)\"/>\n       </defs>\n       <use xlink:href=\"#ArialMT-31\"/>\n       <use xlink:href=\"#ArialMT-30\" x=\"55.615234\"/>\n       <use xlink:href=\"#ArialMT-30\" x=\"111.230469\"/>\n       <use xlink:href=\"#ArialMT-30\" x=\"166.845703\"/>\n       <use xlink:href=\"#ArialMT-30\" x=\"222.460938\"/>\n      </g>\n     </g>\n    </g>\n    <g id=\"xtick_4\">\n     <g id=\"line2d_4\">\n      <path d=\"M 202.334586 300.70725 \nL 202.334586 23.50725 \n\" clip-path=\"url(#p05ba3525bb)\" style=\"fill: none; stroke: #ffffff; stroke-width: 0.8; stroke-linecap: round\"/>\n     </g>\n     <g id=\"text_4\">\n      <!-- 15000 -->\n      <g style=\"fill: #555555\" transform=\"translate(188.432242 314.865063) scale(0.1 -0.1)\">\n       <use xlink:href=\"#ArialMT-31\"/>\n       <use xlink:href=\"#ArialMT-35\" x=\"55.615234\"/>\n       <use xlink:href=\"#ArialMT-30\" x=\"111.230469\"/>\n       <use xlink:href=\"#ArialMT-30\" x=\"166.845703\"/>\n       <use xlink:href=\"#ArialMT-30\" x=\"222.460938\"/>\n      </g>\n     </g>\n    </g>\n    <g id=\"xtick_5\">\n     <g id=\"line2d_5\">\n      <path d=\"M 255.421323 300.70725 \nL 255.421323 23.50725 \n\" clip-path=\"url(#p05ba3525bb)\" style=\"fill: none; stroke: #ffffff; stroke-width: 0.8; stroke-linecap: round\"/>\n     </g>\n     <g id=\"text_5\">\n      <!-- 20000 -->\n      <g style=\"fill: #555555\" transform=\"translate(241.518979 314.865063) scale(0.1 -0.1)\">\n       <defs>\n        <path id=\"ArialMT-32\" d=\"M 3222 541 \nL 3222 0 \nL 194 0 \nQ 188 203 259 391 \nQ 375 700 629 1000 \nQ 884 1300 1366 1694 \nQ 2113 2306 2375 2664 \nQ 2638 3022 2638 3341 \nQ 2638 3675 2398 3904 \nQ 2159 4134 1775 4134 \nQ 1369 4134 1125 3890 \nQ 881 3647 878 3216 \nL 300 3275 \nQ 359 3922 746 4261 \nQ 1134 4600 1788 4600 \nQ 2447 4600 2831 4234 \nQ 3216 3869 3216 3328 \nQ 3216 3053 3103 2787 \nQ 2991 2522 2730 2228 \nQ 2469 1934 1863 1422 \nQ 1356 997 1212 845 \nQ 1069 694 975 541 \nL 3222 541 \nz\n\" transform=\"scale(0.015625)\"/>\n       </defs>\n       <use xlink:href=\"#ArialMT-32\"/>\n       <use xlink:href=\"#ArialMT-30\" x=\"55.615234\"/>\n       <use xlink:href=\"#ArialMT-30\" x=\"111.230469\"/>\n       <use xlink:href=\"#ArialMT-30\" x=\"166.845703\"/>\n       <use xlink:href=\"#ArialMT-30\" x=\"222.460938\"/>\n      </g>\n     </g>\n    </g>\n    <g id=\"xtick_6\">\n     <g id=\"line2d_6\">\n      <path d=\"M 308.508059 300.70725 \nL 308.508059 23.50725 \n\" clip-path=\"url(#p05ba3525bb)\" style=\"fill: none; stroke: #ffffff; stroke-width: 0.8; stroke-linecap: round\"/>\n     </g>\n     <g id=\"text_6\">\n      <!-- 25000 -->\n      <g style=\"fill: #555555\" transform=\"translate(294.605716 314.865063) scale(0.1 -0.1)\">\n       <use xlink:href=\"#ArialMT-32\"/>\n       <use xlink:href=\"#ArialMT-35\" x=\"55.615234\"/>\n       <use xlink:href=\"#ArialMT-30\" x=\"111.230469\"/>\n       <use xlink:href=\"#ArialMT-30\" x=\"166.845703\"/>\n       <use xlink:href=\"#ArialMT-30\" x=\"222.460938\"/>\n      </g>\n     </g>\n    </g>\n    <g id=\"xtick_7\">\n     <g id=\"line2d_7\">\n      <path d=\"M 361.594796 300.70725 \nL 361.594796 23.50725 \n\" clip-path=\"url(#p05ba3525bb)\" style=\"fill: none; stroke: #ffffff; stroke-width: 0.8; stroke-linecap: round\"/>\n     </g>\n     <g id=\"text_7\">\n      <!-- 30000 -->\n      <g style=\"fill: #555555\" transform=\"translate(347.692453 314.865063) scale(0.1 -0.1)\">\n       <defs>\n        <path id=\"ArialMT-33\" d=\"M 269 1209 \nL 831 1284 \nQ 928 806 1161 595 \nQ 1394 384 1728 384 \nQ 2125 384 2398 659 \nQ 2672 934 2672 1341 \nQ 2672 1728 2419 1979 \nQ 2166 2231 1775 2231 \nQ 1616 2231 1378 2169 \nL 1441 2663 \nQ 1497 2656 1531 2656 \nQ 1891 2656 2178 2843 \nQ 2466 3031 2466 3422 \nQ 2466 3731 2256 3934 \nQ 2047 4138 1716 4138 \nQ 1388 4138 1169 3931 \nQ 950 3725 888 3313 \nL 325 3413 \nQ 428 3978 793 4289 \nQ 1159 4600 1703 4600 \nQ 2078 4600 2393 4439 \nQ 2709 4278 2876 4000 \nQ 3044 3722 3044 3409 \nQ 3044 3113 2884 2869 \nQ 2725 2625 2413 2481 \nQ 2819 2388 3044 2092 \nQ 3269 1797 3269 1353 \nQ 3269 753 2831 336 \nQ 2394 -81 1725 -81 \nQ 1122 -81 723 278 \nQ 325 638 269 1209 \nz\n\" transform=\"scale(0.015625)\"/>\n       </defs>\n       <use xlink:href=\"#ArialMT-33\"/>\n       <use xlink:href=\"#ArialMT-30\" x=\"55.615234\"/>\n       <use xlink:href=\"#ArialMT-30\" x=\"111.230469\"/>\n       <use xlink:href=\"#ArialMT-30\" x=\"166.845703\"/>\n       <use xlink:href=\"#ArialMT-30\" x=\"222.460938\"/>\n      </g>\n     </g>\n    </g>\n    <g id=\"xtick_8\">\n     <g id=\"line2d_8\">\n      <path d=\"M 414.681533 300.70725 \nL 414.681533 23.50725 \n\" clip-path=\"url(#p05ba3525bb)\" style=\"fill: none; stroke: #ffffff; stroke-width: 0.8; stroke-linecap: round\"/>\n     </g>\n     <g id=\"text_8\">\n      <!-- 35000 -->\n      <g style=\"fill: #555555\" transform=\"translate(400.779189 314.865063) scale(0.1 -0.1)\">\n       <use xlink:href=\"#ArialMT-33\"/>\n       <use xlink:href=\"#ArialMT-35\" x=\"55.615234\"/>\n       <use xlink:href=\"#ArialMT-30\" x=\"111.230469\"/>\n       <use xlink:href=\"#ArialMT-30\" x=\"166.845703\"/>\n       <use xlink:href=\"#ArialMT-30\" x=\"222.460938\"/>\n      </g>\n     </g>\n    </g>\n    <g id=\"text_9\">\n     <!-- number_of_observations -->\n     <g style=\"fill: #555555\" transform=\"translate(172.33875 329.588188) scale(0.12 -0.12)\">\n      <defs>\n       <path id=\"ArialMT-6e\" d=\"M 422 0 \nL 422 3319 \nL 928 3319 \nL 928 2847 \nQ 1294 3394 1984 3394 \nQ 2284 3394 2536 3286 \nQ 2788 3178 2913 3003 \nQ 3038 2828 3088 2588 \nQ 3119 2431 3119 2041 \nL 3119 0 \nL 2556 0 \nL 2556 2019 \nQ 2556 2363 2490 2533 \nQ 2425 2703 2258 2804 \nQ 2091 2906 1866 2906 \nQ 1506 2906 1245 2678 \nQ 984 2450 984 1813 \nL 984 0 \nL 422 0 \nz\n\" transform=\"scale(0.015625)\"/>\n       <path id=\"ArialMT-75\" d=\"M 2597 0 \nL 2597 488 \nQ 2209 -75 1544 -75 \nQ 1250 -75 995 37 \nQ 741 150 617 320 \nQ 494 491 444 738 \nQ 409 903 409 1263 \nL 409 3319 \nL 972 3319 \nL 972 1478 \nQ 972 1038 1006 884 \nQ 1059 663 1231 536 \nQ 1403 409 1656 409 \nQ 1909 409 2131 539 \nQ 2353 669 2445 892 \nQ 2538 1116 2538 1541 \nL 2538 3319 \nL 3100 3319 \nL 3100 0 \nL 2597 0 \nz\n\" transform=\"scale(0.015625)\"/>\n       <path id=\"ArialMT-6d\" d=\"M 422 0 \nL 422 3319 \nL 925 3319 \nL 925 2853 \nQ 1081 3097 1340 3245 \nQ 1600 3394 1931 3394 \nQ 2300 3394 2536 3241 \nQ 2772 3088 2869 2813 \nQ 3263 3394 3894 3394 \nQ 4388 3394 4653 3120 \nQ 4919 2847 4919 2278 \nL 4919 0 \nL 4359 0 \nL 4359 2091 \nQ 4359 2428 4304 2576 \nQ 4250 2725 4106 2815 \nQ 3963 2906 3769 2906 \nQ 3419 2906 3187 2673 \nQ 2956 2441 2956 1928 \nL 2956 0 \nL 2394 0 \nL 2394 2156 \nQ 2394 2531 2256 2718 \nQ 2119 2906 1806 2906 \nQ 1569 2906 1367 2781 \nQ 1166 2656 1075 2415 \nQ 984 2175 984 1722 \nL 984 0 \nL 422 0 \nz\n\" transform=\"scale(0.015625)\"/>\n       <path id=\"ArialMT-62\" d=\"M 941 0 \nL 419 0 \nL 419 4581 \nL 981 4581 \nL 981 2947 \nQ 1338 3394 1891 3394 \nQ 2197 3394 2470 3270 \nQ 2744 3147 2920 2923 \nQ 3097 2700 3197 2384 \nQ 3297 2069 3297 1709 \nQ 3297 856 2875 390 \nQ 2453 -75 1863 -75 \nQ 1275 -75 941 416 \nL 941 0 \nz\nM 934 1684 \nQ 934 1088 1097 822 \nQ 1363 388 1816 388 \nQ 2184 388 2453 708 \nQ 2722 1028 2722 1663 \nQ 2722 2313 2464 2622 \nQ 2206 2931 1841 2931 \nQ 1472 2931 1203 2611 \nQ 934 2291 934 1684 \nz\n\" transform=\"scale(0.015625)\"/>\n       <path id=\"ArialMT-65\" d=\"M 2694 1069 \nL 3275 997 \nQ 3138 488 2766 206 \nQ 2394 -75 1816 -75 \nQ 1088 -75 661 373 \nQ 234 822 234 1631 \nQ 234 2469 665 2931 \nQ 1097 3394 1784 3394 \nQ 2450 3394 2872 2941 \nQ 3294 2488 3294 1666 \nQ 3294 1616 3291 1516 \nL 816 1516 \nQ 847 969 1125 678 \nQ 1403 388 1819 388 \nQ 2128 388 2347 550 \nQ 2566 713 2694 1069 \nz\nM 847 1978 \nL 2700 1978 \nQ 2663 2397 2488 2606 \nQ 2219 2931 1791 2931 \nQ 1403 2931 1139 2672 \nQ 875 2413 847 1978 \nz\n\" transform=\"scale(0.015625)\"/>\n       <path id=\"ArialMT-72\" d=\"M 416 0 \nL 416 3319 \nL 922 3319 \nL 922 2816 \nQ 1116 3169 1280 3281 \nQ 1444 3394 1641 3394 \nQ 1925 3394 2219 3213 \nL 2025 2691 \nQ 1819 2813 1613 2813 \nQ 1428 2813 1281 2702 \nQ 1134 2591 1072 2394 \nQ 978 2094 978 1738 \nL 978 0 \nL 416 0 \nz\n\" transform=\"scale(0.015625)\"/>\n       <path id=\"ArialMT-5f\" d=\"M -97 -1272 \nL -97 -866 \nL 3631 -866 \nL 3631 -1272 \nL -97 -1272 \nz\n\" transform=\"scale(0.015625)\"/>\n       <path id=\"ArialMT-6f\" d=\"M 213 1659 \nQ 213 2581 725 3025 \nQ 1153 3394 1769 3394 \nQ 2453 3394 2887 2945 \nQ 3322 2497 3322 1706 \nQ 3322 1066 3130 698 \nQ 2938 331 2570 128 \nQ 2203 -75 1769 -75 \nQ 1072 -75 642 372 \nQ 213 819 213 1659 \nz\nM 791 1659 \nQ 791 1022 1069 705 \nQ 1347 388 1769 388 \nQ 2188 388 2466 706 \nQ 2744 1025 2744 1678 \nQ 2744 2294 2464 2611 \nQ 2184 2928 1769 2928 \nQ 1347 2928 1069 2612 \nQ 791 2297 791 1659 \nz\n\" transform=\"scale(0.015625)\"/>\n       <path id=\"ArialMT-66\" d=\"M 556 0 \nL 556 2881 \nL 59 2881 \nL 59 3319 \nL 556 3319 \nL 556 3672 \nQ 556 4006 616 4169 \nQ 697 4388 901 4523 \nQ 1106 4659 1475 4659 \nQ 1713 4659 2000 4603 \nL 1916 4113 \nQ 1741 4144 1584 4144 \nQ 1328 4144 1222 4034 \nQ 1116 3925 1116 3625 \nL 1116 3319 \nL 1763 3319 \nL 1763 2881 \nL 1116 2881 \nL 1116 0 \nL 556 0 \nz\n\" transform=\"scale(0.015625)\"/>\n       <path id=\"ArialMT-73\" d=\"M 197 991 \nL 753 1078 \nQ 800 744 1014 566 \nQ 1228 388 1613 388 \nQ 2000 388 2187 545 \nQ 2375 703 2375 916 \nQ 2375 1106 2209 1216 \nQ 2094 1291 1634 1406 \nQ 1016 1563 777 1677 \nQ 538 1791 414 1992 \nQ 291 2194 291 2438 \nQ 291 2659 392 2848 \nQ 494 3038 669 3163 \nQ 800 3259 1026 3326 \nQ 1253 3394 1513 3394 \nQ 1903 3394 2198 3281 \nQ 2494 3169 2634 2976 \nQ 2775 2784 2828 2463 \nL 2278 2388 \nQ 2241 2644 2061 2787 \nQ 1881 2931 1553 2931 \nQ 1166 2931 1000 2803 \nQ 834 2675 834 2503 \nQ 834 2394 903 2306 \nQ 972 2216 1119 2156 \nQ 1203 2125 1616 2013 \nQ 2213 1853 2448 1751 \nQ 2684 1650 2818 1456 \nQ 2953 1263 2953 975 \nQ 2953 694 2789 445 \nQ 2625 197 2315 61 \nQ 2006 -75 1616 -75 \nQ 969 -75 630 194 \nQ 291 463 197 991 \nz\n\" transform=\"scale(0.015625)\"/>\n       <path id=\"ArialMT-76\" d=\"M 1344 0 \nL 81 3319 \nL 675 3319 \nL 1388 1331 \nQ 1503 1009 1600 663 \nQ 1675 925 1809 1294 \nL 2547 3319 \nL 3125 3319 \nL 1869 0 \nL 1344 0 \nz\n\" transform=\"scale(0.015625)\"/>\n       <path id=\"ArialMT-61\" d=\"M 2588 409 \nQ 2275 144 1986 34 \nQ 1697 -75 1366 -75 \nQ 819 -75 525 192 \nQ 231 459 231 875 \nQ 231 1119 342 1320 \nQ 453 1522 633 1644 \nQ 813 1766 1038 1828 \nQ 1203 1872 1538 1913 \nQ 2219 1994 2541 2106 \nQ 2544 2222 2544 2253 \nQ 2544 2597 2384 2738 \nQ 2169 2928 1744 2928 \nQ 1347 2928 1158 2789 \nQ 969 2650 878 2297 \nL 328 2372 \nQ 403 2725 575 2942 \nQ 747 3159 1072 3276 \nQ 1397 3394 1825 3394 \nQ 2250 3394 2515 3294 \nQ 2781 3194 2906 3042 \nQ 3031 2891 3081 2659 \nQ 3109 2516 3109 2141 \nL 3109 1391 \nQ 3109 606 3145 398 \nQ 3181 191 3288 0 \nL 2700 0 \nQ 2613 175 2588 409 \nz\nM 2541 1666 \nQ 2234 1541 1622 1453 \nQ 1275 1403 1131 1340 \nQ 988 1278 909 1158 \nQ 831 1038 831 891 \nQ 831 666 1001 516 \nQ 1172 366 1500 366 \nQ 1825 366 2078 508 \nQ 2331 650 2450 897 \nQ 2541 1088 2541 1459 \nL 2541 1666 \nz\n\" transform=\"scale(0.015625)\"/>\n       <path id=\"ArialMT-74\" d=\"M 1650 503 \nL 1731 6 \nQ 1494 -44 1306 -44 \nQ 1000 -44 831 53 \nQ 663 150 594 308 \nQ 525 466 525 972 \nL 525 2881 \nL 113 2881 \nL 113 3319 \nL 525 3319 \nL 525 4141 \nL 1084 4478 \nL 1084 3319 \nL 1650 3319 \nL 1650 2881 \nL 1084 2881 \nL 1084 941 \nQ 1084 700 1114 631 \nQ 1144 563 1211 522 \nQ 1278 481 1403 481 \nQ 1497 481 1650 503 \nz\n\" transform=\"scale(0.015625)\"/>\n       <path id=\"ArialMT-69\" d=\"M 425 3934 \nL 425 4581 \nL 988 4581 \nL 988 3934 \nL 425 3934 \nz\nM 425 0 \nL 425 3319 \nL 988 3319 \nL 988 0 \nL 425 0 \nz\n\" transform=\"scale(0.015625)\"/>\n      </defs>\n      <use xlink:href=\"#ArialMT-6e\"/>\n      <use xlink:href=\"#ArialMT-75\" x=\"55.615234\"/>\n      <use xlink:href=\"#ArialMT-6d\" x=\"111.230469\"/>\n      <use xlink:href=\"#ArialMT-62\" x=\"194.53125\"/>\n      <use xlink:href=\"#ArialMT-65\" x=\"250.146484\"/>\n      <use xlink:href=\"#ArialMT-72\" x=\"305.761719\"/>\n      <use xlink:href=\"#ArialMT-5f\" x=\"339.0625\"/>\n      <use xlink:href=\"#ArialMT-6f\" x=\"394.677734\"/>\n      <use xlink:href=\"#ArialMT-66\" x=\"450.292969\"/>\n      <use xlink:href=\"#ArialMT-5f\" x=\"478.076172\"/>\n      <use xlink:href=\"#ArialMT-6f\" x=\"533.691406\"/>\n      <use xlink:href=\"#ArialMT-62\" x=\"589.306641\"/>\n      <use xlink:href=\"#ArialMT-73\" x=\"644.921875\"/>\n      <use xlink:href=\"#ArialMT-65\" x=\"694.921875\"/>\n      <use xlink:href=\"#ArialMT-72\" x=\"750.537109\"/>\n      <use xlink:href=\"#ArialMT-76\" x=\"783.837891\"/>\n      <use xlink:href=\"#ArialMT-61\" x=\"833.837891\"/>\n      <use xlink:href=\"#ArialMT-74\" x=\"889.453125\"/>\n      <use xlink:href=\"#ArialMT-69\" x=\"917.236328\"/>\n      <use xlink:href=\"#ArialMT-6f\" x=\"939.453125\"/>\n      <use xlink:href=\"#ArialMT-6e\" x=\"995.068359\"/>\n      <use xlink:href=\"#ArialMT-73\" x=\"1050.683594\"/>\n     </g>\n    </g>\n   </g>\n   <g id=\"matplotlib.axis_2\">\n    <g id=\"ytick_1\">\n     <g id=\"line2d_9\">\n      <path d=\"M 43.074375 288.10725 \nL 433.674375 288.10725 \n\" clip-path=\"url(#p05ba3525bb)\" style=\"fill: none; stroke: #ffffff; stroke-width: 0.8; stroke-linecap: round\"/>\n     </g>\n     <g id=\"text_10\">\n      <!-- 0.0 -->\n      <g style=\"fill: #555555\" transform=\"translate(22.174375 291.686156) scale(0.1 -0.1)\">\n       <defs>\n        <path id=\"ArialMT-2e\" d=\"M 581 0 \nL 581 641 \nL 1222 641 \nL 1222 0 \nL 581 0 \nz\n\" transform=\"scale(0.015625)\"/>\n       </defs>\n       <use xlink:href=\"#ArialMT-30\"/>\n       <use xlink:href=\"#ArialMT-2e\" x=\"55.615234\"/>\n       <use xlink:href=\"#ArialMT-30\" x=\"83.398438\"/>\n      </g>\n     </g>\n    </g>\n    <g id=\"ytick_2\">\n     <g id=\"line2d_10\">\n      <path d=\"M 43.074375 237.70725 \nL 433.674375 237.70725 \n\" clip-path=\"url(#p05ba3525bb)\" style=\"fill: none; stroke: #ffffff; stroke-width: 0.8; stroke-linecap: round\"/>\n     </g>\n     <g id=\"text_11\">\n      <!-- 0.2 -->\n      <g style=\"fill: #555555\" transform=\"translate(22.174375 241.286156) scale(0.1 -0.1)\">\n       <use xlink:href=\"#ArialMT-30\"/>\n       <use xlink:href=\"#ArialMT-2e\" x=\"55.615234\"/>\n       <use xlink:href=\"#ArialMT-32\" x=\"83.398438\"/>\n      </g>\n     </g>\n    </g>\n    <g id=\"ytick_3\">\n     <g id=\"line2d_11\">\n      <path d=\"M 43.074375 187.30725 \nL 433.674375 187.30725 \n\" clip-path=\"url(#p05ba3525bb)\" style=\"fill: none; stroke: #ffffff; stroke-width: 0.8; stroke-linecap: round\"/>\n     </g>\n     <g id=\"text_12\">\n      <!-- 0.4 -->\n      <g style=\"fill: #555555\" transform=\"translate(22.174375 190.886156) scale(0.1 -0.1)\">\n       <defs>\n        <path id=\"ArialMT-34\" d=\"M 2069 0 \nL 2069 1097 \nL 81 1097 \nL 81 1613 \nL 2172 4581 \nL 2631 4581 \nL 2631 1613 \nL 3250 1613 \nL 3250 1097 \nL 2631 1097 \nL 2631 0 \nL 2069 0 \nz\nM 2069 1613 \nL 2069 3678 \nL 634 1613 \nL 2069 1613 \nz\n\" transform=\"scale(0.015625)\"/>\n       </defs>\n       <use xlink:href=\"#ArialMT-30\"/>\n       <use xlink:href=\"#ArialMT-2e\" x=\"55.615234\"/>\n       <use xlink:href=\"#ArialMT-34\" x=\"83.398438\"/>\n      </g>\n     </g>\n    </g>\n    <g id=\"ytick_4\">\n     <g id=\"line2d_12\">\n      <path d=\"M 43.074375 136.90725 \nL 433.674375 136.90725 \n\" clip-path=\"url(#p05ba3525bb)\" style=\"fill: none; stroke: #ffffff; stroke-width: 0.8; stroke-linecap: round\"/>\n     </g>\n     <g id=\"text_13\">\n      <!-- 0.6 -->\n      <g style=\"fill: #555555\" transform=\"translate(22.174375 140.486156) scale(0.1 -0.1)\">\n       <defs>\n        <path id=\"ArialMT-36\" d=\"M 3184 3459 \nL 2625 3416 \nQ 2550 3747 2413 3897 \nQ 2184 4138 1850 4138 \nQ 1581 4138 1378 3988 \nQ 1113 3794 959 3422 \nQ 806 3050 800 2363 \nQ 1003 2672 1297 2822 \nQ 1591 2972 1913 2972 \nQ 2475 2972 2870 2558 \nQ 3266 2144 3266 1488 \nQ 3266 1056 3080 686 \nQ 2894 316 2569 119 \nQ 2244 -78 1831 -78 \nQ 1128 -78 684 439 \nQ 241 956 241 2144 \nQ 241 3472 731 4075 \nQ 1159 4600 1884 4600 \nQ 2425 4600 2770 4297 \nQ 3116 3994 3184 3459 \nz\nM 888 1484 \nQ 888 1194 1011 928 \nQ 1134 663 1356 523 \nQ 1578 384 1822 384 \nQ 2178 384 2434 671 \nQ 2691 959 2691 1453 \nQ 2691 1928 2437 2201 \nQ 2184 2475 1800 2475 \nQ 1419 2475 1153 2201 \nQ 888 1928 888 1484 \nz\n\" transform=\"scale(0.015625)\"/>\n       </defs>\n       <use xlink:href=\"#ArialMT-30\"/>\n       <use xlink:href=\"#ArialMT-2e\" x=\"55.615234\"/>\n       <use xlink:href=\"#ArialMT-36\" x=\"83.398438\"/>\n      </g>\n     </g>\n    </g>\n    <g id=\"ytick_5\">\n     <g id=\"line2d_13\">\n      <path d=\"M 43.074375 86.50725 \nL 433.674375 86.50725 \n\" clip-path=\"url(#p05ba3525bb)\" style=\"fill: none; stroke: #ffffff; stroke-width: 0.8; stroke-linecap: round\"/>\n     </g>\n     <g id=\"text_14\">\n      <!-- 0.8 -->\n      <g style=\"fill: #555555\" transform=\"translate(22.174375 90.086156) scale(0.1 -0.1)\">\n       <defs>\n        <path id=\"ArialMT-38\" d=\"M 1131 2484 \nQ 781 2613 612 2850 \nQ 444 3088 444 3419 \nQ 444 3919 803 4259 \nQ 1163 4600 1759 4600 \nQ 2359 4600 2725 4251 \nQ 3091 3903 3091 3403 \nQ 3091 3084 2923 2848 \nQ 2756 2613 2416 2484 \nQ 2838 2347 3058 2040 \nQ 3278 1734 3278 1309 \nQ 3278 722 2862 322 \nQ 2447 -78 1769 -78 \nQ 1091 -78 675 323 \nQ 259 725 259 1325 \nQ 259 1772 486 2073 \nQ 713 2375 1131 2484 \nz\nM 1019 3438 \nQ 1019 3113 1228 2906 \nQ 1438 2700 1772 2700 \nQ 2097 2700 2305 2904 \nQ 2513 3109 2513 3406 \nQ 2513 3716 2298 3927 \nQ 2084 4138 1766 4138 \nQ 1444 4138 1231 3931 \nQ 1019 3725 1019 3438 \nz\nM 838 1322 \nQ 838 1081 952 856 \nQ 1066 631 1291 507 \nQ 1516 384 1775 384 \nQ 2178 384 2440 643 \nQ 2703 903 2703 1303 \nQ 2703 1709 2433 1975 \nQ 2163 2241 1756 2241 \nQ 1359 2241 1098 1978 \nQ 838 1716 838 1322 \nz\n\" transform=\"scale(0.015625)\"/>\n       </defs>\n       <use xlink:href=\"#ArialMT-30\"/>\n       <use xlink:href=\"#ArialMT-2e\" x=\"55.615234\"/>\n       <use xlink:href=\"#ArialMT-38\" x=\"83.398438\"/>\n      </g>\n     </g>\n    </g>\n    <g id=\"ytick_6\">\n     <g id=\"line2d_14\">\n      <path d=\"M 43.074375 36.10725 \nL 433.674375 36.10725 \n\" clip-path=\"url(#p05ba3525bb)\" style=\"fill: none; stroke: #ffffff; stroke-width: 0.8; stroke-linecap: round\"/>\n     </g>\n     <g id=\"text_15\">\n      <!-- 1.0 -->\n      <g style=\"fill: #555555\" transform=\"translate(22.174375 39.686156) scale(0.1 -0.1)\">\n       <use xlink:href=\"#ArialMT-31\"/>\n       <use xlink:href=\"#ArialMT-2e\" x=\"55.615234\"/>\n       <use xlink:href=\"#ArialMT-30\" x=\"83.398438\"/>\n      </g>\n     </g>\n    </g>\n    <g id=\"text_16\">\n     <!-- unique_value -->\n     <g style=\"fill: #555555\" transform=\"translate(15.789375 197.802563) rotate(-90) scale(0.12 -0.12)\">\n      <defs>\n       <path id=\"ArialMT-71\" d=\"M 2538 -1272 \nL 2538 353 \nQ 2406 169 2170 47 \nQ 1934 -75 1669 -75 \nQ 1078 -75 651 397 \nQ 225 869 225 1691 \nQ 225 2191 398 2587 \nQ 572 2984 901 3189 \nQ 1231 3394 1625 3394 \nQ 2241 3394 2594 2875 \nL 2594 3319 \nL 3100 3319 \nL 3100 -1272 \nL 2538 -1272 \nz\nM 803 1669 \nQ 803 1028 1072 708 \nQ 1341 388 1716 388 \nQ 2075 388 2334 692 \nQ 2594 997 2594 1619 \nQ 2594 2281 2320 2615 \nQ 2047 2950 1678 2950 \nQ 1313 2950 1058 2639 \nQ 803 2328 803 1669 \nz\n\" transform=\"scale(0.015625)\"/>\n       <path id=\"ArialMT-6c\" d=\"M 409 0 \nL 409 4581 \nL 972 4581 \nL 972 0 \nL 409 0 \nz\n\" transform=\"scale(0.015625)\"/>\n      </defs>\n      <use xlink:href=\"#ArialMT-75\"/>\n      <use xlink:href=\"#ArialMT-6e\" x=\"55.615234\"/>\n      <use xlink:href=\"#ArialMT-69\" x=\"111.230469\"/>\n      <use xlink:href=\"#ArialMT-71\" x=\"133.447266\"/>\n      <use xlink:href=\"#ArialMT-75\" x=\"189.0625\"/>\n      <use xlink:href=\"#ArialMT-65\" x=\"244.677734\"/>\n      <use xlink:href=\"#ArialMT-5f\" x=\"300.292969\"/>\n      <use xlink:href=\"#ArialMT-76\" x=\"355.908203\"/>\n      <use xlink:href=\"#ArialMT-61\" x=\"405.908203\"/>\n      <use xlink:href=\"#ArialMT-6c\" x=\"461.523438\"/>\n      <use xlink:href=\"#ArialMT-75\" x=\"483.740234\"/>\n      <use xlink:href=\"#ArialMT-65\" x=\"539.355469\"/>\n     </g>\n    </g>\n   </g>\n   <g id=\"patch_3\">\n    <path d=\"M 43.074375 288.10725 \nL 415.074375 288.10725 \nL 415.074375 262.90725 \nL 43.074375 262.90725 \nz\n\" clip-path=\"url(#p05ba3525bb)\" style=\"fill: #ff0000; stroke: #eeeeee; stroke-width: 0.5; stroke-linejoin: miter\"/>\n   </g>\n   <g id=\"patch_4\">\n    <path d=\"M 43.074375 262.90725 \nL 43.074375 262.90725 \nL 43.074375 237.70725 \nL 43.074375 237.70725 \nz\n\" clip-path=\"url(#p05ba3525bb)\" style=\"fill: #ff0000; stroke: #eeeeee; stroke-width: 0.5; stroke-linejoin: miter\"/>\n   </g>\n   <g id=\"patch_5\">\n    <path d=\"M 43.074375 237.70725 \nL 43.074375 237.70725 \nL 43.074375 212.50725 \nL 43.074375 212.50725 \nz\n\" clip-path=\"url(#p05ba3525bb)\" style=\"fill: #ff0000; stroke: #eeeeee; stroke-width: 0.5; stroke-linejoin: miter\"/>\n   </g>\n   <g id=\"patch_6\">\n    <path d=\"M 43.074375 212.50725 \nL 43.074375 212.50725 \nL 43.074375 187.30725 \nL 43.074375 187.30725 \nz\n\" clip-path=\"url(#p05ba3525bb)\" style=\"fill: #ff0000; stroke: #eeeeee; stroke-width: 0.5; stroke-linejoin: miter\"/>\n   </g>\n   <g id=\"patch_7\">\n    <path d=\"M 43.074375 187.30725 \nL 43.074375 187.30725 \nL 43.074375 162.10725 \nL 43.074375 162.10725 \nz\n\" clip-path=\"url(#p05ba3525bb)\" style=\"fill: #ff0000; stroke: #eeeeee; stroke-width: 0.5; stroke-linejoin: miter\"/>\n   </g>\n   <g id=\"patch_8\">\n    <path d=\"M 43.074375 162.10725 \nL 43.074375 162.10725 \nL 43.074375 136.90725 \nL 43.074375 136.90725 \nz\n\" clip-path=\"url(#p05ba3525bb)\" style=\"fill: #ff0000; stroke: #eeeeee; stroke-width: 0.5; stroke-linejoin: miter\"/>\n   </g>\n   <g id=\"patch_9\">\n    <path d=\"M 43.074375 136.90725 \nL 43.074375 136.90725 \nL 43.074375 111.70725 \nL 43.074375 111.70725 \nz\n\" clip-path=\"url(#p05ba3525bb)\" style=\"fill: #ff0000; stroke: #eeeeee; stroke-width: 0.5; stroke-linejoin: miter\"/>\n   </g>\n   <g id=\"patch_10\">\n    <path d=\"M 43.074375 111.70725 \nL 43.074375 111.70725 \nL 43.074375 86.50725 \nL 43.074375 86.50725 \nz\n\" clip-path=\"url(#p05ba3525bb)\" style=\"fill: #ff0000; stroke: #eeeeee; stroke-width: 0.5; stroke-linejoin: miter\"/>\n   </g>\n   <g id=\"patch_11\">\n    <path d=\"M 43.074375 86.50725 \nL 43.074375 86.50725 \nL 43.074375 61.30725 \nL 43.074375 61.30725 \nz\n\" clip-path=\"url(#p05ba3525bb)\" style=\"fill: #ff0000; stroke: #eeeeee; stroke-width: 0.5; stroke-linejoin: miter\"/>\n   </g>\n   <g id=\"patch_12\">\n    <path d=\"M 43.074375 61.30725 \nL 149.5239 61.30725 \nL 149.5239 36.10725 \nL 43.074375 36.10725 \nz\n\" clip-path=\"url(#p05ba3525bb)\" style=\"fill: #ff0000; stroke: #eeeeee; stroke-width: 0.5; stroke-linejoin: miter\"/>\n   </g>\n   <g id=\"patch_13\">\n    <path d=\"M 43.074375 300.70725 \nL 43.074375 23.50725 \n\" style=\"fill: none; stroke: #ffffff; stroke-linejoin: miter; stroke-linecap: square\"/>\n   </g>\n   <g id=\"patch_14\">\n    <path d=\"M 433.674375 300.70725 \nL 433.674375 23.50725 \n\" style=\"fill: none; stroke: #ffffff; stroke-linejoin: miter; stroke-linecap: square\"/>\n   </g>\n   <g id=\"patch_15\">\n    <path d=\"M 43.074375 300.70725 \nL 433.674375 300.70725 \n\" style=\"fill: none; stroke: #ffffff; stroke-linejoin: miter; stroke-linecap: square\"/>\n   </g>\n   <g id=\"patch_16\">\n    <path d=\"M 43.074375 23.50725 \nL 433.674375 23.50725 \n\" style=\"fill: none; stroke: #ffffff; stroke-linejoin: miter; stroke-linecap: square\"/>\n   </g>\n   <g id=\"text_17\">\n    <!-- Target distribution -->\n    <g style=\"fill: #262626\" transform=\"translate(181.55175 17.50725) scale(0.144 -0.144)\">\n     <defs>\n      <path id=\"ArialMT-54\" d=\"M 1659 0 \nL 1659 4041 \nL 150 4041 \nL 150 4581 \nL 3781 4581 \nL 3781 4041 \nL 2266 4041 \nL 2266 0 \nL 1659 0 \nz\n\" transform=\"scale(0.015625)\"/>\n      <path id=\"ArialMT-67\" d=\"M 319 -275 \nL 866 -356 \nQ 900 -609 1056 -725 \nQ 1266 -881 1628 -881 \nQ 2019 -881 2231 -725 \nQ 2444 -569 2519 -288 \nQ 2563 -116 2559 434 \nQ 2191 0 1641 0 \nQ 956 0 581 494 \nQ 206 988 206 1678 \nQ 206 2153 378 2554 \nQ 550 2956 876 3175 \nQ 1203 3394 1644 3394 \nQ 2231 3394 2613 2919 \nL 2613 3319 \nL 3131 3319 \nL 3131 450 \nQ 3131 -325 2973 -648 \nQ 2816 -972 2473 -1159 \nQ 2131 -1347 1631 -1347 \nQ 1038 -1347 672 -1080 \nQ 306 -813 319 -275 \nz\nM 784 1719 \nQ 784 1066 1043 766 \nQ 1303 466 1694 466 \nQ 2081 466 2343 764 \nQ 2606 1063 2606 1700 \nQ 2606 2309 2336 2618 \nQ 2066 2928 1684 2928 \nQ 1309 2928 1046 2623 \nQ 784 2319 784 1719 \nz\n\" transform=\"scale(0.015625)\"/>\n      <path id=\"ArialMT-20\" transform=\"scale(0.015625)\"/>\n      <path id=\"ArialMT-64\" d=\"M 2575 0 \nL 2575 419 \nQ 2259 -75 1647 -75 \nQ 1250 -75 917 144 \nQ 584 363 401 755 \nQ 219 1147 219 1656 \nQ 219 2153 384 2558 \nQ 550 2963 881 3178 \nQ 1213 3394 1622 3394 \nQ 1922 3394 2156 3267 \nQ 2391 3141 2538 2938 \nL 2538 4581 \nL 3097 4581 \nL 3097 0 \nL 2575 0 \nz\nM 797 1656 \nQ 797 1019 1065 703 \nQ 1334 388 1700 388 \nQ 2069 388 2326 689 \nQ 2584 991 2584 1609 \nQ 2584 2291 2321 2609 \nQ 2059 2928 1675 2928 \nQ 1300 2928 1048 2622 \nQ 797 2316 797 1656 \nz\n\" transform=\"scale(0.015625)\"/>\n     </defs>\n     <use xlink:href=\"#ArialMT-54\"/>\n     <use xlink:href=\"#ArialMT-61\" x=\"49.958984\"/>\n     <use xlink:href=\"#ArialMT-72\" x=\"105.574219\"/>\n     <use xlink:href=\"#ArialMT-67\" x=\"138.875\"/>\n     <use xlink:href=\"#ArialMT-65\" x=\"194.490234\"/>\n     <use xlink:href=\"#ArialMT-74\" x=\"250.105469\"/>\n     <use xlink:href=\"#ArialMT-20\" x=\"277.888672\"/>\n     <use xlink:href=\"#ArialMT-64\" x=\"305.671875\"/>\n     <use xlink:href=\"#ArialMT-69\" x=\"361.287109\"/>\n     <use xlink:href=\"#ArialMT-73\" x=\"383.503906\"/>\n     <use xlink:href=\"#ArialMT-74\" x=\"433.503906\"/>\n     <use xlink:href=\"#ArialMT-72\" x=\"461.287109\"/>\n     <use xlink:href=\"#ArialMT-69\" x=\"494.587891\"/>\n     <use xlink:href=\"#ArialMT-62\" x=\"516.804688\"/>\n     <use xlink:href=\"#ArialMT-75\" x=\"572.419922\"/>\n     <use xlink:href=\"#ArialMT-74\" x=\"628.035156\"/>\n     <use xlink:href=\"#ArialMT-69\" x=\"655.818359\"/>\n     <use xlink:href=\"#ArialMT-6f\" x=\"678.035156\"/>\n     <use xlink:href=\"#ArialMT-6e\" x=\"733.650391\"/>\n    </g>\n   </g>\n  </g>\n </g>\n <defs>\n  <clipPath id=\"p05ba3525bb\">\n   <rect x=\"43.074375\" y=\"23.50725\" width=\"390.6\" height=\"277.2\"/>\n  </clipPath>\n </defs>\n</svg>\n"
     },
     "metadata": {},
     "output_type": "display_data"
    }
   ],
   "source": [
    "ax = data['SeriousDlqin2yrs'].hist(orientation='horizontal', color='red')\n",
    "ax.set_xlabel(\"number_of_observations\")\n",
    "ax.set_ylabel(\"unique_value\")\n",
    "ax.set_title(\"Target distribution\")\n",
    "\n",
    "print('Distribution of target')\n",
    "data['SeriousDlqin2yrs'].value_counts()/data.shape[0]"
   ]
  },
  {
   "cell_type": "markdown",
   "metadata": {},
   "source": [
    "Далі виберемо назви всіх ознак з таблиці, крім прогнозованого."
   ]
  },
  {
   "cell_type": "code",
   "execution_count": 7,
   "metadata": {
    "ExecuteTime": {
     "end_time": "2023-11-21T16:17:46.479399800Z",
     "start_time": "2023-11-21T16:17:46.452061700Z"
    }
   },
   "outputs": [
    {
     "data": {
      "text/plain": "['age',\n 'NumberOfTime30-59DaysPastDueNotWorse',\n 'DebtRatio',\n 'NumberOfTimes90DaysLate',\n 'NumberOfTime60-89DaysPastDueNotWorse',\n 'MonthlyIncome',\n 'NumberOfDependents']"
     },
     "execution_count": 7,
     "metadata": {},
     "output_type": "execute_result"
    }
   ],
   "source": [
    "independent_columns_names = data.columns.values\n",
    "independent_columns_names = [x for x in data if x != 'SeriousDlqin2yrs']\n",
    "independent_columns_names"
   ]
  },
  {
   "cell_type": "markdown",
   "metadata": {},
   "source": [
    "Застосовуємо функцію, яка замінює всі NaN значення на медіанне значення відповідного стовпця."
   ]
  },
  {
   "cell_type": "code",
   "execution_count": 8,
   "metadata": {
    "ExecuteTime": {
     "end_time": "2023-11-21T16:17:46.511519100Z",
     "start_time": "2023-11-21T16:17:46.468893500Z"
    }
   },
   "outputs": [],
   "source": [
    "table = delete_nan(data)"
   ]
  },
  {
   "cell_type": "markdown",
   "metadata": {},
   "source": [
    "Розділяємо підготовлений набір даних на незалежні ознаки ($X$) та цільову ознаку ($y$)."
   ]
  },
  {
   "cell_type": "code",
   "execution_count": 9,
   "metadata": {
    "ExecuteTime": {
     "end_time": "2023-11-21T16:17:46.528310200Z",
     "start_time": "2023-11-21T16:17:46.484920900Z"
    }
   },
   "outputs": [],
   "source": [
    "X = table[independent_columns_names]\n",
    "y = table['SeriousDlqin2yrs']"
   ]
  },
  {
   "cell_type": "markdown",
   "metadata": {},
   "source": [
    "<a class=\"anchor\" id=\"lab-5.2\"></a>"
   ]
  },
  {
   "cell_type": "markdown",
   "metadata": {},
   "source": [
    "## <span style=\"color:blue; font-size:1.2em;\">5.2. Бутстреп</span>\n",
    "\n",
    "[Повернутися до змісту](#lab-5)"
   ]
  },
  {
   "cell_type": "markdown",
   "metadata": {},
   "source": [
    "Спершу обрахуйте інтервальну оцінку середнього віку (age) для надійних клієнтів та тих клієнтів, що прострочили виплату кредиту з \"впевненістю\" >= 90% . Використайте приклад з лекції, поставте `np.random.seed (0)`, як це зроблено в огляді."
   ]
  },
  {
   "cell_type": "code",
   "execution_count": 10,
   "metadata": {
    "ExecuteTime": {
     "end_time": "2023-11-21T16:17:46.529309700Z",
     "start_time": "2023-11-21T16:17:46.499427Z"
    }
   },
   "outputs": [],
   "source": [
    "# Допоміжна функція для генерації підвибірок за допомогою бутстрепу\n",
    "def get_bootstrap_samples(data, n_samples):\n",
    "    indices = np.random.randint(0, len(data), (n_samples, len(data)))\n",
    "    samples = data[indices]\n",
    "    return samples"
   ]
  },
  {
   "cell_type": "markdown",
   "metadata": {},
   "source": [
    "### <span style=\"color:red; font-size:1.5em;\">Завдання 1</span>\n",
    "\n",
    "\n",
    "**Для варіантів 1-2:**\n",
    "\n",
    "Обрахуйте інтервальну оцінку медіанного доходу надійних клієнтів при `n_samples=500` та `alpha=0.05`.\n",
    "\n",
    "**Для варіантів 3-4:**\n",
    "\n",
    "Оцініть середню кількість відкритих кредитних ліній для боржників при `n_samples=1000` та `alpha=0.1`.\n",
    "\n",
    "**Для варіантів 5-6:**\n",
    "\n",
    "Обрахуйте інтервальну оцінку для середнього віку клієнтів без прострочень при `n_samples=700` та `alpha=0.05`.\n",
    "\n",
    "**Для варіантів 7-8:**\n",
    "\n",
    "Обрахуйте середній коефіцієнт використання відновлювальної незабезпеченої лінії для надійних клієнтів з `n_samples=800` та `alpha=0.1`.\n",
    "\n",
    "**Для варіантів 9-10:**\n",
    "\n",
    "Оцініть частку клієнтів з кредитами на нерухомість серед надійних клієнтів при `n_samples=1000` та `alpha=0.05`.\n",
    "\n",
    "**Для варіантів 11-12:**\n",
    "\n",
    "Обрахуйте інтервальну оцінку середньої кількості утриманців серед боржників при `n_samples=600` та `alpha=0.1`.\n",
    "\n",
    "**Для варіантів 13-14:**\n",
    "\n",
    "Обрахуйте інтервальну оцінку середнього доходу клієнтів, які не мають прострочень, при n_вибірок=500` та альфа=0.05`.\n",
    "\n",
    "**Для варіантів 15-16:**\n",
    "\n",
    "Оцініть медіанний вік клієнтів, які мають понад 3 відкритих кредитних ліній, при `n_samples=700` та `alpha=0.1`.\n",
    "\n",
    "**Для варіантів 17-18:**\n",
    "\n",
    "Обрахуйте середній коефіцієнт використання незабезпечених кредитів для клієнтів, які мають утриманців, з `n_samples=1000` та `alpha=0.05`.\n",
    "\n",
    "**Для варіантів 19-20:**\n",
    "\n",
    "Обрахуйте частку клієнтів, які мають понад 50% відновлювальної заборгованості серед боржників, з `n_samples=800` та `alpha=0.1`.\n"
   ]
  },
  {
   "cell_type": "markdown",
   "metadata": {},
   "source": [
    "<a class=\"anchor\" id=\"lab-5.3\"></a>"
   ]
  },
  {
   "cell_type": "markdown",
   "metadata": {},
   "source": [
    "## <span style=\"color:blue; font-size:1.2em;\">5.3. Підбір параметрів для моделі логістичної регресії</span>\n",
    "\n",
    "[Повернутися до змісту](#lab-5)"
   ]
  },
  {
   "cell_type": "markdown",
   "metadata": {},
   "source": [
    "Однією з важливих метрик якості моделі є значення площі під [ROC-кривої](https://uk.wikipedia.org/wiki/ROC-%D0%BA%D1%80%D0%B8%D0%B2%D0%B0) (AUC). Значення ROC-AUC лежить від 0 до 1. Чим ближче значення метрики ROC-AUC до 1, тим якісніше відбувається класифікація моделлю."
   ]
  },
  {
   "cell_type": "code",
   "execution_count": 11,
   "metadata": {
    "ExecuteTime": {
     "end_time": "2023-11-21T16:17:46.701699Z",
     "start_time": "2023-11-21T16:17:46.515032500Z"
    }
   },
   "outputs": [],
   "source": [
    "from sklearn.linear_model import LogisticRegression\n",
    "from sklearn.model_selection import GridSearchCV, StratifiedKFold"
   ]
  },
  {
   "cell_type": "markdown",
   "metadata": {},
   "source": [
    "Використовуємо модуль [`LogisticRegression`](https://scikit-learn.org/stable/modules/generated/sklearn.linear_model.LogisticRegression.html) для побудови логістичної регресії. Через незбалансованість класів в цільовій функції додаємо параметр балансування. Також додамо параметр `random_state=5` для відтворюваності результатів."
   ]
  },
  {
   "cell_type": "code",
   "execution_count": 12,
   "metadata": {
    "ExecuteTime": {
     "end_time": "2023-11-21T16:17:46.729754900Z",
     "start_time": "2023-11-21T16:17:46.705719500Z"
    }
   },
   "outputs": [],
   "source": [
    "lr = LogisticRegression(random_state=5, class_weight= 'balanced')"
   ]
  },
  {
   "cell_type": "markdown",
   "metadata": {},
   "source": [
    "Тепер спробуємо підібрати найкращий коефіцієнт регуляризації (коефіцієнт C в логістичній регресії) для моделі логістичної регрессії. Найкраще значення параметра С забезпечить нам оптимальність моделі, яка буде добре прогнозувати значення цільової функції і водночас не буде перенавчатися. Інші параметри залишаємо за замовчуванням."
   ]
  },
  {
   "cell_type": "code",
   "execution_count": 13,
   "metadata": {
    "ExecuteTime": {
     "end_time": "2023-11-21T16:17:46.742773400Z",
     "start_time": "2023-11-21T16:17:46.721237200Z"
    }
   },
   "outputs": [],
   "source": [
    "parameters = {'C': (0.0001, 0.001, 0.01, 0.1, 1, 10)}"
   ]
  },
  {
   "cell_type": "markdown",
   "metadata": {},
   "source": [
    "Щоби підібрати коефіцієнт регуляризації переглянемо значення ROC-AUC на Stratified крос-валідації з 5 фолдів для кожного можливого значення коефіцієнта регуляризації за допомогою функції StratifiedKFold."
   ]
  },
  {
   "cell_type": "code",
   "execution_count": 14,
   "metadata": {
    "ExecuteTime": {
     "end_time": "2023-11-21T16:17:46.764666Z",
     "start_time": "2023-11-21T16:17:46.735272400Z"
    }
   },
   "outputs": [],
   "source": [
    "skf = StratifiedKFold(n_splits=5, shuffle=True, random_state=5)"
   ]
  },
  {
   "cell_type": "markdown",
   "metadata": {},
   "source": [
    "Далі для розв'язку наступного завдання використайте [`GridSearchCV`](https://scikit-learn.org/stable/modules/generated/sklearn.model_selection.GridSearchCV.html) з метрикою ROC-AUC за параметром C."
   ]
  },
  {
   "cell_type": "markdown",
   "metadata": {},
   "source": [
    "### <span style=\"color:red; font-size:1.5em;\">Завдання 2</span>\n",
    "\n",
    "\n",
    "**Для варіантів 1-2:**\n",
    "\n",
    "Знайдіть оптимальне значення параметра `max_depth` в моделі випадкового лісу за допомогою GridSearchCV.\n",
    "\n",
    "**Для варіантів 3-4:**\n",
    "\n",
    "Визначте оптимальну кількість оцінок у моделі випадкового лісу за допомогою GridSearchCV.\n",
    "\n",
    "**Для варіантів 5-6:**\n",
    "\n",
    "Визначте оптимальне значення параметра регуляризації в логістичній регресії за допомогою GridSearchCV.\n",
    "\n",
    "**Для варіантів 7-8:**\n",
    "\n",
    "Порівняйте середньоквадратичне відхилення оцінки точності в моделях логістичної регресії з результатами GridSearchCV.\n",
    "\n",
    "**Для варіантів 9-10:**\n",
    "\n",
    "Чи є найкраща модель логістичної регресії стабільною? Вважайте модель стабільною, якщо її валідаційне стандартне відхилення менш як 0.4%.\n",
    "\n",
    "**Для варіантів 11-12:**\n",
    "\n",
    "Визначте точність найкращої моделі випадкового лісу, використовуючи оптимальний параметр `max_features` з GridSearchCV.\n",
    "\n",
    "**Для варіантів 13-14:**\n",
    "\n",
    "Знайдіть оптимальну швидкість навчання для класифікатора з градієнтним підсиленням за допомогою GridSearchCV.\n",
    "\n",
    "**Для варіантів 15-16:**\n",
    "\n",
    "Яке оптимальне значення параметра `n_neighbors` у класифікаторі K-Nearest Neighbors за допомогою GridSearchCV?\n",
    "\n",
    "**Для варіантів 17-18:**\n",
    "\n",
    "Визначте оптимальне значення параметра `min_samples_split` для моделі дерева рішень за допомогою GridSearchCV.\n",
    "\n",
    "**Для варіантів 19-20:**\n",
    "\n",
    "Порівняйте стандартне відхилення оцінок ROC AUC в моделях випадкових лісів з результатами GridSearchCV.\n"
   ]
  },
  {
   "cell_type": "markdown",
   "metadata": {},
   "source": [
    "***Примітка:*** для розв'язання завдання 2 скористайтесь атрибутами `GridSearchCV()` під назвою `grid_search.best_estimator_`, `grid_search.cv_results_`, `grid_search.best_score_`."
   ]
  },
  {
   "cell_type": "markdown",
   "metadata": {},
   "source": [
    "<a class=\"anchor\" id=\"lab-5.4\"></a>"
   ]
  },
  {
   "cell_type": "markdown",
   "metadata": {},
   "source": [
    "## <span style=\"color:blue; font-size:1.2em;\">5.4. Визначення впливу ознак</span>\n",
    "\n",
    "[Повернутися до змісту](#lab-5)"
   ]
  },
  {
   "cell_type": "markdown",
   "metadata": {},
   "source": [
    "У цьому завданні ми попрацюємо з важливістю ознак. Пам'ятаємо, що важливість ознаки визначається **абсолютним значенням її коефіцієнта**. Крім того, потрібно заздалегідь нормалізувати всі ознаки, щоб їх правильно порівняти."
   ]
  },
  {
   "cell_type": "code",
   "execution_count": 15,
   "metadata": {
    "ExecuteTime": {
     "end_time": "2023-11-21T16:17:46.813337800Z",
     "start_time": "2023-11-21T16:17:46.755158Z"
    }
   },
   "outputs": [
    {
     "data": {
      "text/plain": "LogisticRegression(C=0.001, class_weight='balanced', random_state=5)",
      "text/html": "<style>#sk-container-id-1 {color: black;background-color: white;}#sk-container-id-1 pre{padding: 0;}#sk-container-id-1 div.sk-toggleable {background-color: white;}#sk-container-id-1 label.sk-toggleable__label {cursor: pointer;display: block;width: 100%;margin-bottom: 0;padding: 0.3em;box-sizing: border-box;text-align: center;}#sk-container-id-1 label.sk-toggleable__label-arrow:before {content: \"▸\";float: left;margin-right: 0.25em;color: #696969;}#sk-container-id-1 label.sk-toggleable__label-arrow:hover:before {color: black;}#sk-container-id-1 div.sk-estimator:hover label.sk-toggleable__label-arrow:before {color: black;}#sk-container-id-1 div.sk-toggleable__content {max-height: 0;max-width: 0;overflow: hidden;text-align: left;background-color: #f0f8ff;}#sk-container-id-1 div.sk-toggleable__content pre {margin: 0.2em;color: black;border-radius: 0.25em;background-color: #f0f8ff;}#sk-container-id-1 input.sk-toggleable__control:checked~div.sk-toggleable__content {max-height: 200px;max-width: 100%;overflow: auto;}#sk-container-id-1 input.sk-toggleable__control:checked~label.sk-toggleable__label-arrow:before {content: \"▾\";}#sk-container-id-1 div.sk-estimator input.sk-toggleable__control:checked~label.sk-toggleable__label {background-color: #d4ebff;}#sk-container-id-1 div.sk-label input.sk-toggleable__control:checked~label.sk-toggleable__label {background-color: #d4ebff;}#sk-container-id-1 input.sk-hidden--visually {border: 0;clip: rect(1px 1px 1px 1px);clip: rect(1px, 1px, 1px, 1px);height: 1px;margin: -1px;overflow: hidden;padding: 0;position: absolute;width: 1px;}#sk-container-id-1 div.sk-estimator {font-family: monospace;background-color: #f0f8ff;border: 1px dotted black;border-radius: 0.25em;box-sizing: border-box;margin-bottom: 0.5em;}#sk-container-id-1 div.sk-estimator:hover {background-color: #d4ebff;}#sk-container-id-1 div.sk-parallel-item::after {content: \"\";width: 100%;border-bottom: 1px solid gray;flex-grow: 1;}#sk-container-id-1 div.sk-label:hover label.sk-toggleable__label {background-color: #d4ebff;}#sk-container-id-1 div.sk-serial::before {content: \"\";position: absolute;border-left: 1px solid gray;box-sizing: border-box;top: 0;bottom: 0;left: 50%;z-index: 0;}#sk-container-id-1 div.sk-serial {display: flex;flex-direction: column;align-items: center;background-color: white;padding-right: 0.2em;padding-left: 0.2em;position: relative;}#sk-container-id-1 div.sk-item {position: relative;z-index: 1;}#sk-container-id-1 div.sk-parallel {display: flex;align-items: stretch;justify-content: center;background-color: white;position: relative;}#sk-container-id-1 div.sk-item::before, #sk-container-id-1 div.sk-parallel-item::before {content: \"\";position: absolute;border-left: 1px solid gray;box-sizing: border-box;top: 0;bottom: 0;left: 50%;z-index: -1;}#sk-container-id-1 div.sk-parallel-item {display: flex;flex-direction: column;z-index: 1;position: relative;background-color: white;}#sk-container-id-1 div.sk-parallel-item:first-child::after {align-self: flex-end;width: 50%;}#sk-container-id-1 div.sk-parallel-item:last-child::after {align-self: flex-start;width: 50%;}#sk-container-id-1 div.sk-parallel-item:only-child::after {width: 0;}#sk-container-id-1 div.sk-dashed-wrapped {border: 1px dashed gray;margin: 0 0.4em 0.5em 0.4em;box-sizing: border-box;padding-bottom: 0.4em;background-color: white;}#sk-container-id-1 div.sk-label label {font-family: monospace;font-weight: bold;display: inline-block;line-height: 1.2em;}#sk-container-id-1 div.sk-label-container {text-align: center;}#sk-container-id-1 div.sk-container {/* jupyter's `normalize.less` sets `[hidden] { display: none; }` but bootstrap.min.css set `[hidden] { display: none !important; }` so we also need the `!important` here to be able to override the default hidden behavior on the sphinx rendered scikit-learn.org. See: https://github.com/scikit-learn/scikit-learn/issues/21755 */display: inline-block !important;position: relative;}#sk-container-id-1 div.sk-text-repr-fallback {display: none;}</style><div id=\"sk-container-id-1\" class=\"sk-top-container\"><div class=\"sk-text-repr-fallback\"><pre>LogisticRegression(C=0.001, class_weight=&#x27;balanced&#x27;, random_state=5)</pre><b>In a Jupyter environment, please rerun this cell to show the HTML representation or trust the notebook. <br />On GitHub, the HTML representation is unable to render, please try loading this page with nbviewer.org.</b></div><div class=\"sk-container\" hidden><div class=\"sk-item\"><div class=\"sk-estimator sk-toggleable\"><input class=\"sk-toggleable__control sk-hidden--visually\" id=\"sk-estimator-id-1\" type=\"checkbox\" checked><label for=\"sk-estimator-id-1\" class=\"sk-toggleable__label sk-toggleable__label-arrow\">LogisticRegression</label><div class=\"sk-toggleable__content\"><pre>LogisticRegression(C=0.001, class_weight=&#x27;balanced&#x27;, random_state=5)</pre></div></div></div></div></div>"
     },
     "execution_count": 15,
     "metadata": {},
     "output_type": "execute_result"
    }
   ],
   "source": [
    "from sklearn.preprocessing import StandardScaler\n",
    "\n",
    "lr = LogisticRegression(C=0.001,random_state=5, class_weight='balanced')\n",
    "scal = StandardScaler()\n",
    "lr.fit(scal.fit_transform(X), y)"
   ]
  },
  {
   "cell_type": "markdown",
   "metadata": {},
   "source": [
    "Обрахуємо важливість ознак:"
   ]
  },
  {
   "cell_type": "code",
   "execution_count": 16,
   "metadata": {
    "ExecuteTime": {
     "end_time": "2023-11-21T16:17:46.828858600Z",
     "start_time": "2023-11-21T16:17:46.819349800Z"
    }
   },
   "outputs": [
    {
     "data": {
      "text/plain": "                                   feat      coef\n1  NumberOfTime30-59DaysPastDueNotWorse  0.723427\n3               NumberOfTimes90DaysLate  0.516788\n4  NumberOfTime60-89DaysPastDueNotWorse  0.193558\n6                    NumberOfDependents  0.101443\n2                             DebtRatio -0.024096\n5                         MonthlyIncome -0.163146\n0                                   age -0.416702",
      "text/html": "<div>\n<style scoped>\n    .dataframe tbody tr th:only-of-type {\n        vertical-align: middle;\n    }\n\n    .dataframe tbody tr th {\n        vertical-align: top;\n    }\n\n    .dataframe thead th {\n        text-align: right;\n    }\n</style>\n<table border=\"1\" class=\"dataframe\">\n  <thead>\n    <tr style=\"text-align: right;\">\n      <th></th>\n      <th>feat</th>\n      <th>coef</th>\n    </tr>\n  </thead>\n  <tbody>\n    <tr>\n      <th>1</th>\n      <td>NumberOfTime30-59DaysPastDueNotWorse</td>\n      <td>0.723427</td>\n    </tr>\n    <tr>\n      <th>3</th>\n      <td>NumberOfTimes90DaysLate</td>\n      <td>0.516788</td>\n    </tr>\n    <tr>\n      <th>4</th>\n      <td>NumberOfTime60-89DaysPastDueNotWorse</td>\n      <td>0.193558</td>\n    </tr>\n    <tr>\n      <th>6</th>\n      <td>NumberOfDependents</td>\n      <td>0.101443</td>\n    </tr>\n    <tr>\n      <th>2</th>\n      <td>DebtRatio</td>\n      <td>-0.024096</td>\n    </tr>\n    <tr>\n      <th>5</th>\n      <td>MonthlyIncome</td>\n      <td>-0.163146</td>\n    </tr>\n    <tr>\n      <th>0</th>\n      <td>age</td>\n      <td>-0.416702</td>\n    </tr>\n  </tbody>\n</table>\n</div>"
     },
     "execution_count": 16,
     "metadata": {},
     "output_type": "execute_result"
    }
   ],
   "source": [
    "pd.DataFrame({'feat': independent_columns_names,\n",
    "              'coef': lr.coef_.flatten().tolist()}).sort_values(by='coef', ascending=False)"
   ]
  },
  {
   "cell_type": "markdown",
   "metadata": {},
   "source": [
    "### <span style=\"color:red; font-size:1.5em;\">Завдання 3</span>\n",
    "\n",
    "\n",
    "**Для варіантів 1-2:**\n",
    "\n",
    "Розрахуйте розмір впливу ознаки `NumberOfDependents` на цільову ознаку за допомогою функції softmax. Для цього закодуйте та обчисліть функцію [softmax](https://en.wikipedia.org/wiki/Softmax_function).\n",
    "\n",
    "**Для варіантів 3-4:**\n",
    "\n",
    "Оцініть частку впливу фактору `MonthlyIncome` за допомогою функції softmax. Для цього закодуйте та обчисліть функцію [softmax](https://en.wikipedia.org/wiki/Softmax_function).\n",
    "\n",
    "**Для варіантів 5-6:**\n",
    "\n",
    "У скільки разів збільшиться ймовірність дефолту, якщо кількість відкритих кредитних ліній збільшиться на 2 при незмінності інших факторів?\n",
    "\n",
    "**Для варіантів 7-8:**\n",
    "\n",
    "Розрахуйте вплив збільшення віку на 5 років на ймовірність дефолту при незмінності інших факторів.\n",
    "\n",
    "**Для варіантів 9-10:**\n",
    "\n",
    "Визначте вплив ознаки `NumberOfTime30-59DaysPastDueNotWorse` за допомогою функції softmax. Для цього закодуйте та обчисліть функцію [softmax](https://en.wikipedia.org/wiki/Softmax_function).\n",
    "\n",
    "**Для варіантів 11-12:**\n",
    "\n",
    "Оцініть вплив збільшення револьверного використання незабезпечених ліній на 10% на ймовірність дефолту.\n",
    "\n",
    "**Для варіантів 13-14:**\n",
    "\n",
    "Розрахуйте вплив на ймовірність дефолту ще одного кредиту на нерухомість.\n",
    "\n",
    "**Для варіантів 15-16:**\n",
    "\n",
    "Визначте частку впливу фактору `NumberOfTimes90DaysLate` за допомогою функції softmax. Для цього закодуйте та обчисліть функцію [softmax](https://en.wikipedia.org/wiki/Softmax_function).\n",
    "\n",
    "**Для варіантів 17-18:**\n",
    "\n",
    "Оцініть вплив зменшення кількості утриманців на 1 на ймовірність дефолту.\n",
    "\n",
    "**Для варіантів 19-20:**\n",
    "\n",
    "Розрахуйте вплив ознаки `NumberRealEstateLoansOrLines` на цільовий показник за допомогою функції softmax. Для цього закодуйте та обчисліть функцію [softmax](https://en.wikipedia.org/wiki/Softmax_function).\n"
   ]
  },
  {
   "cell_type": "code",
   "execution_count": 17,
   "metadata": {
    "ExecuteTime": {
     "end_time": "2023-11-21T16:17:46.876995300Z",
     "start_time": "2023-11-21T16:17:46.829862400Z"
    }
   },
   "outputs": [],
   "source": [
    "# Ваш код тут"
   ]
  },
  {
   "cell_type": "markdown",
   "metadata": {},
   "source": [
    "***Примітка 1:*** Приклад реалізації функції softmax можете підчитати [тут](https://machinelearningmastery.com/softmax-activation-function-with-python/).\n",
    "\n",
    "***Примітка 2:***\n",
    "\n",
    "Формула, за якою обраховують у скільки разів збільшаться шанси при підвищенні знчення ознаки:\n",
    "\n",
    "$$ \\large \\exp^{\\beta\\delta}, $$\n",
    "\n",
    "де\n",
    "\n",
    "$ \\beta $ – значення ознаки; $ \\delta $ – на скільки робимо приріст.\n",
    "\n"
   ]
  },
  {
   "cell_type": "markdown",
   "metadata": {},
   "source": [
    "<a class=\"anchor\" id=\"lab-5.5\"></a>"
   ]
  },
  {
   "cell_type": "markdown",
   "metadata": {},
   "source": [
    "## <span style=\"color:blue; font-size:1.2em;\">5.5. Створення моделі випадкового лісу</span>\n",
    "\n",
    "[Повернутися до змісту](#lab-5)"
   ]
  },
  {
   "cell_type": "markdown",
   "metadata": {},
   "source": [
    "Ініціалізуємо випадковий ліс з **10 деревами** й збалансованими класами:"
   ]
  },
  {
   "cell_type": "code",
   "execution_count": 18,
   "metadata": {
    "ExecuteTime": {
     "end_time": "2023-11-21T16:17:47.014915400Z",
     "start_time": "2023-11-21T16:17:46.846236100Z"
    }
   },
   "outputs": [],
   "source": [
    "from sklearn.ensemble import RandomForestClassifier\n",
    "\n",
    "rf = RandomForestClassifier(n_estimators=10, n_jobs=-1, \n",
    "                            random_state=42, oob_score=True, \n",
    "                            class_weight='balanced')"
   ]
  },
  {
   "cell_type": "markdown",
   "metadata": {},
   "source": [
    "Будемо шукати кращі параметри поміж набору:"
   ]
  },
  {
   "cell_type": "code",
   "execution_count": 19,
   "metadata": {
    "ExecuteTime": {
     "end_time": "2023-11-21T16:17:47.015916700Z",
     "start_time": "2023-11-21T16:17:46.978356500Z"
    }
   },
   "outputs": [],
   "source": [
    "parameters = {'max_features': [1, 2, 4], \n",
    "              'min_samples_leaf': [3, 5, 7], \n",
    "              'max_depth': [5, 10, 15]}"
   ]
  },
  {
   "cell_type": "markdown",
   "metadata": {},
   "source": [
    "Для розв'язку наступного завдання потрібно реалізувати Stratified k-fold валідацію. Ініціалізація валідації має зберігатися в у змінній `skf` з попередніх завдань."
   ]
  },
  {
   "cell_type": "markdown",
   "metadata": {},
   "source": [
    "### <span style=\"color:red; font-size:1.5em;\">Завдання 4</span>\n",
    "\n",
    "\n",
    "**Для варіантів 1-2:**\n",
    "\n",
    "Визначте ознаку з другим за величиною впливом на цільову функцію в моделі випадкового лісу.\n",
    "\n",
    "**Для варіантів 3-4:**\n",
    "\n",
    "Порівняйте значення метрик Precison та Recall логістичної регресії та моделі випадкового лісу. Обговоріть їх компроміси.\n",
    "\n",
    "**Для варіантів 5-6:**\n",
    "\n",
    "Визначте ознаку з найменшим впливом у моделі логістичної регресії. Обговоріть її потенційні наслідки.\n",
    "\n",
    "**Для варіантів 7-8:**\n",
    "\n",
    "Порівняйте показники F1 найкращих моделей логістичної регресії та випадкового лісу.\n",
    "\n",
    "**Для варіантів 9-10:**\n",
    "\n",
    "Інтерпретуйте моделі логістичної регресії та випадкового лісу для задачі кредитного скорингу.\n",
    "\n",
    "**Для варіантів 11-12:**\n",
    "\n",
    "Визначте другу найменш впливову ознаку в моделі випадкового лісу та обговоріть, чому вона може бути менш важливою.\n",
    "\n",
    "**Для варіантів 13-14:**\n",
    "\n",
    "Проаналізуйте вплив `DebtRatio` на цільову функцію в моделі логістичної регресії.\n",
    "\n",
    "**Для варіантів 15-16:**\n",
    "\n",
    "Порівняйте показники ROC AUC для моделей логістичної регресії та випадкового лісу. Обговоріть їх ефективність.\n",
    "\n",
    "**Для варіантів 17-18:**\n",
    "\n",
    "Оцініть важливість ознаки `MonthlyIncome` в моделі випадкового лісу та її вплив на кредитний скоринг.\n",
    "\n",
    "**Для варіантів 19-20:**\n",
    "\n",
    "Обговоріть переваги використання моделі логістичної регресії з точки зору обчислювальної ефективності та інтерпретованості моделі."
   ]
  },
  {
   "cell_type": "markdown",
   "metadata": {},
   "source": [
    "<a class=\"anchor\" id=\"lab-5.6\"></a>"
   ]
  },
  {
   "cell_type": "markdown",
   "metadata": {},
   "source": [
    "## <span style=\"color:blue; font-size:1.2em;\">5.6. Беггінг</span>\n",
    "\n",
    "[Повернутися до змісту](#lab-5)"
   ]
  },
  {
   "cell_type": "markdown",
   "metadata": {},
   "source": [
    "Наступне завдання полягатиме у навчанні ансамблевих моделей.\n",
    "\n",
    "**Примітка:** перебирати всі варіанти комбінацій надто довго, поставте максимальне число ітерацій 20 для `RandomizedSearchCV`. Також не забудьте передати параметр валідації `CV` і `random_state=1`."
   ]
  },
  {
   "cell_type": "markdown",
   "metadata": {},
   "source": [
    "### <span style=\"color:red; font-size:1.5em;\">Завдання 5</span>\n",
    "\n",
    "\n",
    "**Для варіантів 1-2:**\n",
    "\n",
    "Виконайте додаткове налаштування моделі градієнтного бустингу за допомогою GridSearchCV. Порівняйте результати з RandomizedSearchCV.\n",
    "\n",
    "**Для варіантів 3-4:**\n",
    "\n",
    "Який найкращий показник відгуку досягнуто за допомогою RandomizedSearchCV для логістичної регресії?\n",
    "\n",
    "**Для варіантів 5-6:**\n",
    "\n",
    "Оптимізуйте модель дерева рішень за допомогою GridSearchCV і порівняйте результати з моделлю випадкового лісу.\n",
    "\n",
    "**Для варіантів 7-8:**\n",
    "\n",
    "Визначте найкраще значення метрики F1 для класифікатора K-найближчих сусідів за допомогою RandomizedSearchCV.\n",
    "\n",
    "**Для варіантів 9-10:**\n",
    "\n",
    "За допомогою GridSearchCV знайдіть найкращі параметри для SVM-класифікатора. \n",
    "Порівняйте його точність з моделлю логістичної регресії.\n",
    "\n",
    "**Для варіантів 11-12:**\n",
    "\n",
    "Проаналізуйте вплив різних значень `max_depth` на продуктивність моделі дерева рішень за допомогою GridSearchCV.\n",
    "\n",
    "**Для варіантів 13-14:**\n",
    "\n",
    "Порівняйте показники точності моделей беггінгу, що налаштовані за допомогою RandomizedSearchCV та GridSearchCV.\n",
    "\n",
    "**Для варіантів 15-16:**\n",
    "\n",
    "Знайдіть найкращу оцінку ROC AUC для моделі градієнтного бустингу за допомогою RandomizedSearchCV.\n",
    "\n",
    "**Для варіантів 17-18:**\n",
    "\n",
    "Використовуйте GridSearchCV для оптимізації гіперпараметрів моделі логістичної регресії. Порівняйте результати з результатами RandomizedSearchCV.\n",
    "\n",
    "**Для варіантів 19-20:**\n",
    "\n",
    "Визначте найкращу комбінацію `n_estimators` та `learning_rate` для моделі градієнтного бустингу за допомогою GridSearchCV.\n"
   ]
  },
  {
   "cell_type": "code",
   "execution_count": 19,
   "metadata": {
    "ExecuteTime": {
     "end_time": "2023-11-21T16:17:47.015916700Z",
     "start_time": "2023-11-21T16:17:46.987867300Z"
    }
   },
   "outputs": [],
   "source": []
  }
 ],
 "metadata": {
  "anaconda-cloud": {},
  "kernelspec": {
   "display_name": "Python 3 (ipykernel)",
   "language": "python",
   "name": "python3"
  },
  "language_info": {
   "codemirror_mode": {
    "name": "ipython",
    "version": 3
   },
   "file_extension": ".py",
   "mimetype": "text/x-python",
   "name": "python",
   "nbconvert_exporter": "python",
   "pygments_lexer": "ipython3",
   "version": "3.9.16"
  }
 },
 "nbformat": 4,
 "nbformat_minor": 4
}
