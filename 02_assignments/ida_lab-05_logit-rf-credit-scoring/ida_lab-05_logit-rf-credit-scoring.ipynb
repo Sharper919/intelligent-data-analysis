{
 "cells": [
  {
   "cell_type": "markdown",
   "metadata": {},
   "source": [
    "<h1><center>Лабораторна робота 5.</center></h1>\n",
    "<h2><center>Логістична регресія й випадковий ліс в задачі кредитного скорингу</center></h2>"
   ]
  },
  {
   "cell_type": "markdown",
   "metadata": {
    "jupyter": {
     "outputs_hidden": true
    }
   },
   "source": [
    "**Виконав:** Прізвище І.П.\n",
    "\n",
    "**Варіант:** №__"
   ]
  },
  {
   "cell_type": "markdown",
   "metadata": {},
   "source": [
    "<a class=\"anchor\" id=\"lab-5\"></a>"
   ]
  },
  {
   "cell_type": "markdown",
   "metadata": {},
   "source": [
    "## Зміст \n",
    "\n",
    "- [5.1. Завантаження навчальних даних](#lab-5.1)\n",
    "- [5.2. Бутстреп](#lab-5.2)  \n",
    "- [5.3. Підбір параметрів для моделі логістичної регресії](#lab-5.3)\n",
    "- [5.4. Визначення впливу ознак](#lab-5.4)\n",
    "- [5.5. Створення моделі випадкового лісу](#lab-5.5)\n",
    "- [5.6. Беггінг](#lab-5.6)"
   ]
  },
  {
   "cell_type": "markdown",
   "metadata": {},
   "source": [
    "Головним завданням цієї лабораторної роботи є побудова моделі на основі машинного навчання (МН) для задачі кредитного скорингу."
   ]
  },
  {
   "cell_type": "markdown",
   "metadata": {},
   "source": [
    "<a class=\"anchor\" id=\"lab-5.1\"></a>"
   ]
  },
  {
   "cell_type": "markdown",
   "metadata": {},
   "source": [
    "## <span style=\"color:blue; font-size:1.2em;\">5.1. Завантаження навчальних даних</span>\n",
    "\n",
    "[Повернутися до змісту](#lab-5)"
   ]
  },
  {
   "cell_type": "markdown",
   "metadata": {},
   "source": [
    "Змінна, значення якої прогнозується, $Y$:\n",
    "\n",
    " - SeriousDlqin2yrs – стан виплати людиною кредиту впроводж наступних 90 днів; можливі значення – 1 або 0. \n",
    "\n",
    "Незалежні ознаки, $X$:\n",
    "\n",
    " - age – вік позичальника кредитних коштів; тип – integer;\n",
    " - NumberOfTime30-59DaysPastDueNotWorse – кількість прострочених виплат інших кредитів більше 30-59 днів тому, але не більше впродовж останніх двох років; тип – integer;\n",
    " - DebtRatio – відношення щомісячного відрахування щодо заборгованості (кредити, аліменти тощо) до сукупного місячного доходу (percentage); тип – real;\n",
    " - MonthlyIncome – місячний дохід в доларах; тип – real;\n",
    " - NumberOfTimes90DaysLate – кількість прострочених виплат інших кредитів більше 90 днів; тип – integer;\n",
    " - NumberOfTime60-89DaysPastDueNotWorse – кількість прострочених виплат інших кредитів більш 60-89 днів, але не більше впродовж останніх двох років; тип – integer;\n",
    " - NumberOfDependents – кількість членів сім'ї позичальника; тип – integer."
   ]
  },
  {
   "cell_type": "code",
   "execution_count": null,
   "metadata": {},
   "outputs": [],
   "source": [
    "%matplotlib inline\n",
    "import matplotlib.pyplot as plt\n",
    "import seaborn as sns\n",
    "\n",
    "# відключимо попередження Anaconda\n",
    "import warnings\n",
    "warnings.filterwarnings('ignore')\n",
    "import pandas as pd\n",
    "import numpy as np"
   ]
  },
  {
   "cell_type": "markdown",
   "metadata": {},
   "source": [
    "Створимо функцію, яка буде замінювати NaN значення на медіану в кожному стовпчику таблиці:"
   ]
  },
  {
   "cell_type": "code",
   "execution_count": null,
   "metadata": {},
   "outputs": [],
   "source": [
    "def delete_nan(table):\n",
    "    for col in table.columns:\n",
    "        table[col]= table[col].fillna(table[col].median())\n",
    "    return table   "
   ]
  },
  {
   "cell_type": "markdown",
   "metadata": {},
   "source": [
    "Завантажуємо дані для подальшого навчання:"
   ]
  },
  {
   "cell_type": "code",
   "execution_count": null,
   "metadata": {},
   "outputs": [],
   "source": [
    "credit_scoring_url = 'https://raw.githubusercontent.com/radiukpavlo/Intelligent-data-analysis/main/02_assignments/ida_lab-05_logit-rf-credit-scoring/credit_scoring_sample.csv'\n",
    "\n",
    "data = pd.read_csv(credit_scoring_url, sep =';')\n",
    "data.head()"
   ]
  },
  {
   "cell_type": "markdown",
   "metadata": {},
   "source": [
    "Розглянемо типи завантажених даних:"
   ]
  },
  {
   "cell_type": "code",
   "execution_count": null,
   "metadata": {},
   "outputs": [],
   "source": [
    "data.dtypes"
   ]
  },
  {
   "cell_type": "markdown",
   "metadata": {},
   "source": [
    "Переглянемо розподіл класів у цільовій змінні:"
   ]
  },
  {
   "cell_type": "code",
   "execution_count": null,
   "metadata": {},
   "outputs": [],
   "source": [
    "ax = data['SeriousDlqin2yrs'].hist(orientation='horizontal', color='red')\n",
    "ax.set_xlabel(\"number_of_observations\")\n",
    "ax.set_ylabel(\"unique_value\")\n",
    "ax.set_title(\"Target distribution\")\n",
    "\n",
    "print('Distribution of target')\n",
    "data['SeriousDlqin2yrs'].value_counts()/data.shape[0]"
   ]
  },
  {
   "cell_type": "markdown",
   "metadata": {},
   "source": [
    "Далі виберемо назви всіх ознак з таблиці, крім прогнозованого."
   ]
  },
  {
   "cell_type": "code",
   "execution_count": null,
   "metadata": {},
   "outputs": [],
   "source": [
    "independent_columns_names = data.columns.values\n",
    "independent_columns_names = [x for x in data if x != 'SeriousDlqin2yrs']\n",
    "independent_columns_names"
   ]
  },
  {
   "cell_type": "markdown",
   "metadata": {},
   "source": [
    "Застосовуємо функцію, яка замінює всі NaN значення на медіанне значення відповідного стовпця."
   ]
  },
  {
   "cell_type": "code",
   "execution_count": null,
   "metadata": {},
   "outputs": [],
   "source": [
    "table = delete_nan(data)"
   ]
  },
  {
   "cell_type": "markdown",
   "metadata": {},
   "source": [
    "Розділяємо підготовлений набір даних на незалежні ознаки ($X$) та цільову ознаку ($y$)."
   ]
  },
  {
   "cell_type": "code",
   "execution_count": null,
   "metadata": {},
   "outputs": [],
   "source": [
    "X = table[independent_columns_names]\n",
    "y = table['SeriousDlqin2yrs']"
   ]
  },
  {
   "cell_type": "markdown",
   "metadata": {},
   "source": [
    "<a class=\"anchor\" id=\"lab-5.2\"></a>"
   ]
  },
  {
   "cell_type": "markdown",
   "metadata": {},
   "source": [
    "## <span style=\"color:blue; font-size:1.2em;\">5.2. Бутстреп</span>\n",
    "\n",
    "[Повернутися до змісту](#lab-5)"
   ]
  },
  {
   "cell_type": "markdown",
   "metadata": {},
   "source": [
    "Спершу обрахуйте інтервальну оцінку середнього віку (age) для надійних клієнтів та тих клієнтів, що прострочили виплату кредиту з \"впевненістю\" >= 90% . Використайте приклад з лекції, поставте `np.random.seed (0)`, як це зроблено в огляді."
   ]
  },
  {
   "cell_type": "code",
   "execution_count": null,
   "metadata": {},
   "outputs": [],
   "source": [
    "# Функція для генерації підвибірок за допомогою бутстрепу\n",
    "def get_bootstrap_samples(data, n_samples):\n",
    "    indices = np.random.randint(0, len(data), (n_samples, len(data)))\n",
    "    samples = data[indices]\n",
    "    return samples"
   ]
  },
  {
   "cell_type": "code",
   "execution_count": null,
   "metadata": {},
   "outputs": [],
   "source": [
    "# Функція для інтервальної оцінки\n",
    "def stat_intervals(stat, alpha):\n",
    "    # Ваш код тут\n",
    "    return pass"
   ]
  },
  {
   "cell_type": "code",
   "execution_count": null,
   "metadata": {},
   "outputs": [],
   "source": [
    "# Зберігаємо дані щодо клієнтів в окремі numpy масиви \n",
    "churn_clients = # Ваш код тут\n",
    "reliable_clients = # Ваш код тут\n",
    "\n",
    "# Cтавимо seed для відтворюваності результатів\n",
    "np.random.seed(0)\n",
    "\n",
    "# Формуємо вибірки за допомогою бутстрепу і відразу обраховуємо за кожною з них середнє\n",
    "churn_mean_scores = # Ваш код тут\n",
    "reliable_mean_scores = # Ваш код тут\n",
    "\n",
    "# Виводимо інтервальну оцінку середнього\n",
    "print(\"Інтервальна оцінка середнього віку {0} клієнтів: {1}\",  # Ваш код тут)"
   ]
  },
  {
   "cell_type": "markdown",
   "metadata": {},
   "source": [
    "### <span style=\"color:red; font-size:1.5em;\">Завдання 1</span>\n",
    "\n",
    "\n",
    "**Для варіантів 1-5:**\n",
    "\n",
    "Обрахуйте інтервальну оцінку середнього віку надійних клієнтів з параметрами `n_samples=1000` та `alpha=0.1`. \n",
    "\n",
    "**Для варіантів 6-10:**\n",
    "\n",
    "Обрахуйте інтервальну оцінку середнього віку боржників з параметрами `n_samples=1000` та `alpha=0.05`. \n",
    "\n",
    "**Для варіантів 11-15:**\n",
    "\n",
    "Обрахуйте інтервальну оцінку середнього віку боржників з параметрами `n_samples=1000` та `alpha=0.05`. \n",
    "\n",
    "**Для варіантів 16-20:**\n",
    "\n",
    "Обрахуйте інтервальну оцінку середнього віку надійних клієнтів з параметрами `n_samples=500` та `alpha=0.1`. "
   ]
  },
  {
   "cell_type": "markdown",
   "metadata": {},
   "source": [
    "<a class=\"anchor\" id=\"lab-5.3\"></a>"
   ]
  },
  {
   "cell_type": "markdown",
   "metadata": {},
   "source": [
    "## <span style=\"color:blue; font-size:1.2em;\">5.3. Підбір параметрів для моделі логістичної регресії</span>\n",
    "\n",
    "[Повернутися до змісту](#lab-5)"
   ]
  },
  {
   "cell_type": "markdown",
   "metadata": {},
   "source": [
    "Однією з важливих метрик якості моделі є значення площі під [ROC-кривої](https://uk.wikipedia.org/wiki/ROC-%D0%BA%D1%80%D0%B8%D0%B2%D0%B0) (AUC). Значення ROC-AUC лежить від 0 до 1. Чим ближче значення метрики ROC-AUC до 1, тим якісніше відбувається класифікація моделлю."
   ]
  },
  {
   "cell_type": "code",
   "execution_count": null,
   "metadata": {},
   "outputs": [],
   "source": [
    "from sklearn.linear_model import LogisticRegression\n",
    "from sklearn.model_selection import GridSearchCV, StratifiedKFold"
   ]
  },
  {
   "cell_type": "markdown",
   "metadata": {},
   "source": [
    "Використовуємо модуль [`LogisticRegression`](https://scikit-learn.org/stable/modules/generated/sklearn.linear_model.LogisticRegression.html) для побудови логістичної регресії. Через незбалансованість класів в цільовій функції додаємо параметр балансування. Також додамо параметр `random_state=5` для відтворюваності результатів."
   ]
  },
  {
   "cell_type": "code",
   "execution_count": null,
   "metadata": {},
   "outputs": [],
   "source": [
    "lr = LogisticRegression(random_state=5, class_weight= 'balanced')"
   ]
  },
  {
   "cell_type": "markdown",
   "metadata": {},
   "source": [
    "Тепер спробуємо підібрати найкращий коефіцієнт регуляризації (коефіцієнт C в логістичній регресії) для моделі логістичної регрессії. Найкраще значення параметра С забезпечить нам оптимальність моделі, яка буде добре прогнозувати значення цільової функції і водночас не буде перенавчатися. Інші параметри залишаємо за замовчуванням."
   ]
  },
  {
   "cell_type": "code",
   "execution_count": null,
   "metadata": {},
   "outputs": [],
   "source": [
    "parameters = {'C': (0.0001, 0.001, 0.01, 0.1, 1, 10)}"
   ]
  },
  {
   "cell_type": "markdown",
   "metadata": {},
   "source": [
    "Щоби підібрати коефіцієнт регуляризації переглянемо значення ROC-AUC на Stratified крос-валідації з 5 фолдів для кожного можливого значення коефіцієнта регуляризації за допомогою функції StratifiedKFold."
   ]
  },
  {
   "cell_type": "code",
   "execution_count": null,
   "metadata": {},
   "outputs": [],
   "source": [
    "skf = StratifiedKFold(n_splits=5, shuffle=True, random_state=5)"
   ]
  },
  {
   "cell_type": "markdown",
   "metadata": {},
   "source": [
    "Використайте [`GridSearchCV`](https://scikit-learn.org/stable/modules/generated/sklearn.model_selection.GridSearchCV.html) з метрикою ROC-AUC за параметром C."
   ]
  },
  {
   "cell_type": "code",
   "execution_count": null,
   "metadata": {},
   "outputs": [],
   "source": [
    "%%time\n",
    "lr_grid_search = # Ваш код тут\n",
    "lr_grid_search = lr_grid_search.fit(X, y)"
   ]
  },
  {
   "cell_type": "markdown",
   "metadata": {},
   "source": [
    "### <span style=\"color:red; font-size:1.5em;\">Завдання 2</span>\n",
    "\n",
    "\n",
    "**Для варіантів 1-5:**\n",
    "\n",
    "Яке оптимальне значення параметра С в результаті застосування `GridSearchCV()`?\n",
    "\n",
    "**Для варіантів 6-10:**\n",
    "\n",
    "Виведіть значення стандартного відхилення за результатами `GridSearchCV()`.\n",
    "\n",
    "**Для варіантів 11-15:**\n",
    "\n",
    "Чи можна вважати кращу модель стійкою? Модель вважаємо стійкою, якщо стандартне відхилення на валідації менше 0.5% (скористайтесь результатми застосування `GridSearchCV()`).\n",
    "\n",
    "**Для варіантів 16-20:**\n",
    "\n",
    "Виведіть значення accuracy для оптимального значення параметра С за результатами `GridSearchCV()`. "
   ]
  },
  {
   "cell_type": "markdown",
   "metadata": {},
   "source": [
    "***Примітка:*** для розв'язання завдання 2 скористайтесь методоми `grid_search.best_estimator_`, `grid_search.cv_results_`, `grid_search.best_score_`."
   ]
  },
  {
   "cell_type": "markdown",
   "metadata": {},
   "source": [
    "**Збережіть точність кращої моделі, вона вам доводиться для наступних завдань.**"
   ]
  },
  {
   "cell_type": "markdown",
   "metadata": {},
   "source": [
    "<a class=\"anchor\" id=\"lab-5.4\"></a>"
   ]
  },
  {
   "cell_type": "markdown",
   "metadata": {},
   "source": [
    "## <span style=\"color:blue; font-size:1.2em;\">5.4. Визначення впливу ознак</span>\n",
    "\n",
    "[Повернутися до змісту](#lab-5)"
   ]
  },
  {
   "cell_type": "markdown",
   "metadata": {},
   "source": [
    "У цьому завданні ми попрацюємо з важливістю ознак. Пам'ятаємо, що важливість ознаки визначається **абсолютним значенням її коефіцієнта**. Крім того, потрібно заздалегідь нормалізувати всі ознаки, щоб їх правильно порівняти."
   ]
  },
  {
   "cell_type": "code",
   "execution_count": null,
   "metadata": {},
   "outputs": [],
   "source": [
    "from sklearn.preprocessing import StandardScaler\n",
    "\n",
    "lr = LogisticRegression(C=0.001,random_state=5, class_weight='balanced')\n",
    "scal = StandardScaler()\n",
    "lr.fit(scal.fit_transform(X), y)"
   ]
  },
  {
   "cell_type": "markdown",
   "metadata": {},
   "source": [
    "Обрахуємо важливість ознак:"
   ]
  },
  {
   "cell_type": "code",
   "execution_count": null,
   "metadata": {},
   "outputs": [],
   "source": [
    "pd.DataFrame({'feat': independent_columns_names,\n",
    "              'coef': lr.coef_.flatten().tolist()}).sort_values(by='coef', ascending=False)"
   ]
  },
  {
   "cell_type": "markdown",
   "metadata": {},
   "source": [
    "### <span style=\"color:red; font-size:1.5em;\">Завдання 3</span>\n",
    "\n",
    "\n",
    "**Для варіантів 1-5:**\n",
    "\n",
    "Обрахуйте частку впливу найменш важливої ознаки на прогноз. Для цього закодуйте та обчисліть функцію [softmax](https://en.wikipedia.org/wiki/Softmax_function).\n",
    "\n",
    "**Для варіантів 6-10:**\n",
    "\n",
    "Обрахуйте частку впливу найважливішої ознаки на прогноз. Для цього закодуйте та обчисліть функцію [softmax](https://en.wikipedia.org/wiki/Softmax_function).\n",
    "\n",
    "**Для варіантів 11-15:**\n",
    "\n",
    "Порахуйте, у скільки разів збільшаться шанси, що клієнт не виплатить кредит, якщо збільшити вік на 10 років при всіх інших рівних значеннях ознак (теоретичний розрахунок можна подивитися [тут](https://www.unm.edu/~schrader/biostat/bio2/Spr06/lec11.pdf)).\n",
    "\n",
    "**Для варіантів 16-20:**\n",
    "\n",
    "Порахуйте, у скільки разів збільшаться шанси, що клієнт не виплатить кредит, якщо збільшити кількість членів сім'ї позичальника на 2 людини при всіх інших рівних значеннях ознак (теоретичний розрахунок можна подивитися [тут](https://www.unm.edu/~schrader/biostat/bio2/Spr06/lec11.pdf))."
   ]
  },
  {
   "cell_type": "code",
   "execution_count": null,
   "metadata": {},
   "outputs": [],
   "source": [
    "# Ваш код тут"
   ]
  },
  {
   "cell_type": "markdown",
   "metadata": {},
   "source": [
    "***Примітка 1:*** Приклад реалізації функції softmax можете підчитати [тут](https://machinelearningmastery.com/softmax-activation-function-with-python/).\n",
    "\n",
    "***Примітка 2:***\n",
    "\n",
    "Формула, за якою обраховують у скільки разів збільшаться шанси при підвищенні знчення ознаки:\n",
    "\n",
    "$$ \\large \\exp^{\\beta\\delta}, $$\n",
    "\n",
    "де\n",
    "\n",
    "$ \\beta $ – значення ознаки; $ \\delta $ – на скільки робимо приріст.\n",
    "\n"
   ]
  },
  {
   "cell_type": "markdown",
   "metadata": {},
   "source": [
    "<a class=\"anchor\" id=\"lab-5.5\"></a>"
   ]
  },
  {
   "cell_type": "markdown",
   "metadata": {},
   "source": [
    "## <span style=\"color:blue; font-size:1.2em;\">5.5. Створення моделі випадкового лісу</span>\n",
    "\n",
    "[Повернутися до змісту](#lab-5)"
   ]
  },
  {
   "cell_type": "markdown",
   "metadata": {},
   "source": [
    "Ініціалізуємо випадковий ліс з 100 деревами й збалансованими класами:"
   ]
  },
  {
   "cell_type": "code",
   "execution_count": null,
   "metadata": {},
   "outputs": [],
   "source": [
    "from sklearn.ensemble import RandomForestClassifier\n",
    "\n",
    "rf = RandomForestClassifier(n_estimators=100, n_jobs=-1, \n",
    "                            random_state=42, oob_score=True, \n",
    "                            class_weight='balanced')"
   ]
  },
  {
   "cell_type": "markdown",
   "metadata": {},
   "source": [
    "Будемо шукати кращі параметри поміж набору:"
   ]
  },
  {
   "cell_type": "code",
   "execution_count": null,
   "metadata": {},
   "outputs": [],
   "source": [
    "parameters = {'max_features': [1, 2, 4], \n",
    "              'min_samples_leaf': [3, 5, 7, 9], \n",
    "              'max_depth': [5, 10, 15]}"
   ]
  },
  {
   "cell_type": "markdown",
   "metadata": {},
   "source": [
    "Робимо знову Stratified k-fold валідацію. Ініціалізація валідації має зберігатися в skf з попередніх завдань."
   ]
  },
  {
   "cell_type": "code",
   "execution_count": null,
   "metadata": {},
   "outputs": [],
   "source": [
    "%%time\n",
    "rf_grid_search = # Ваш код тут\n",
    "\n",
    "rf_grid_search = rf_grid_search.fit(X, y)"
   ]
  },
  {
   "cell_type": "markdown",
   "metadata": {},
   "source": [
    "### <span style=\"color:red; font-size:1.5em;\">Завдання 4</span>\n",
    "\n",
    "\n",
    "**Для варіантів 1-5:**\n",
    "\n",
    "Відповідно до результатів класифікації за випадковим лісом, яка ознака має найбільший вплив на цільову функцію? Виведіть назву ознаки та числове значення її впливовості.\n",
    "\n",
    "**Для варіантів 6-10:**\n",
    "\n",
    "Порівняйте результати класифікації за логістичною регресією та випадковим лісом. Вкажіть переваги та недоліки обох підходів до розв'язування нашої задачі кредитного скорингу.\n",
    "\n",
    "Для висновку використайте такі тези:\n",
    "- менше витрачається часу на навчання моделі;\n",
    "- менше параметрів для перебору;\n",
    "- хороше інтерпретування ознак;\n",
    "- лінійні властивості алгоритму.\n",
    "\n",
    "**Для варіантів 11-15:**\n",
    "\n",
    "Відповідно до результатів класифікації за випадковим лісом, яка ознака має найменший вплив на цільову функцію? Виведіть назву ознаки та числове значення її впливовості.\n",
    "\n",
    "**Для варіантів 16-20:**\n",
    "\n",
    "Порівняйте значення частки правильних відповідей (ЧПВ, accuracy) кращої моделі випадкового лісу з кращою моделюю логістичної регресії на валідації?"
   ]
  },
  {
   "cell_type": "markdown",
   "metadata": {},
   "source": [
    "<a class=\"anchor\" id=\"lab-5.6\"></a>"
   ]
  },
  {
   "cell_type": "markdown",
   "metadata": {},
   "source": [
    "## <span style=\"color:blue; font-size:1.2em;\">5.6. Беггінг</span>\n",
    "\n",
    "[Повернутися до змісту](#lab-5)"
   ]
  },
  {
   "cell_type": "markdown",
   "metadata": {},
   "source": [
    "Наступне завдання полягатиме у навчанні беггінга, як класифікатора (`random_state=42`)."
   ]
  },
  {
   "cell_type": "code",
   "execution_count": null,
   "metadata": {},
   "outputs": [],
   "source": [
    "from sklearn.ensemble import BaggingClassifier\n",
    "from sklearn.model_selection import RandomizedSearchCV"
   ]
  },
  {
   "cell_type": "markdown",
   "metadata": {},
   "source": [
    "За базові класифікатори візьміть 100 логістичних регресій. Виконайте тюнинг моделі з використанням техніки `RandomizedSearchCV`. Значення параметрів для перебору дано нижче:"
   ]
  },
  {
   "cell_type": "code",
   "execution_count": null,
   "metadata": {},
   "outputs": [],
   "source": [
    "parameters = {'max_features': [1, 2, 3, 4, 5], 'max_samples': [0.1, 0.3, 0.5, 0.7, 0.9], \n",
    "              \"base_estimator__C\": [0.0001, 0.001, 0.01, 1, 10, 100]}"
   ]
  },
  {
   "cell_type": "code",
   "execution_count": null,
   "metadata": {},
   "outputs": [],
   "source": [
    "bg = BaggingClassifier(# Ваш код тут\n",
    "                        )"
   ]
  },
  {
   "cell_type": "markdown",
   "metadata": {},
   "source": [
    "Позаяк перебирати всі варіанти комбінацій надто довго, поставте максимальне число ітерацій 20 для [`RandomizedSearchCV`](https://scikit-learn.org/stable/modules/generated/sklearn.model_selection.RandomizedSearchCV.html). Також не забудьте передати параметр валідації `CV` і `random_state=1`."
   ]
  },
  {
   "cell_type": "code",
   "execution_count": null,
   "metadata": {},
   "outputs": [],
   "source": [
    "%%time\n",
    "bg_random_search = # Ваш код тут\n",
    "\n",
    "bg_random_search = bg_random_search.fit(X, y)"
   ]
  },
  {
   "cell_type": "markdown",
   "metadata": {},
   "source": [
    "### <span style=\"color:red; font-size:1.5em;\">Завдання 5</span>\n",
    "\n",
    "\n",
    "**Для варіантів 1-10:**\n",
    "\n",
    "Виконайте додактово тюнинг навченого беггінга за допомогою `GridSearchCV`. Порівняйте результати тюнингу за `RandomizedSearchCV` та `GridSearchCV`.\n",
    "\n",
    "**Для варіантів 11-20:**\n",
    "\n",
    "Яку найкращу частку правильних відповідей отримано за допомогою `RandomizedSearchCV`?\n",
    "\n",
    "Дайте інтерпретацію кращих параметрів для беггінга. Чому саме такі значення виявилися кращими?"
   ]
  },
  {
   "cell_type": "code",
   "execution_count": null,
   "metadata": {},
   "outputs": [],
   "source": []
  }
 ],
 "metadata": {
  "anaconda-cloud": {},
  "kernelspec": {
   "display_name": "Python 3",
   "language": "python",
   "name": "python3"
  },
  "language_info": {
   "codemirror_mode": {
    "name": "ipython",
    "version": 3
   },
   "file_extension": ".py",
   "mimetype": "text/x-python",
   "name": "python",
   "nbconvert_exporter": "python",
   "pygments_lexer": "ipython3",
   "version": "3.8.8"
  }
 },
 "nbformat": 4,
 "nbformat_minor": 4
}
