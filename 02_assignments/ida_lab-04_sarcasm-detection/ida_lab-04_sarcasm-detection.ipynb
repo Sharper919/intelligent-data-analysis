{
 "cells": [
  {
   "cell_type": "markdown",
   "metadata": {},
   "source": [
    "<h1><center>Лабораторна робота 4.</center></h1>\n",
    "<h2><center>Виявлення сарказму за допомогою логістичної регресії</center></h2>"
   ]
  },
  {
   "cell_type": "markdown",
   "metadata": {},
   "source": [
    "**Виконав:** Прізвище І.П.\n",
    "\n",
    "**Варіант:** №__"
   ]
  },
  {
   "cell_type": "markdown",
   "metadata": {},
   "source": [
    "В цій лабораторній роботі ми будемо подувати модель логістичної регресії для розв'язання задачі класифікації саркастичних текстів. Для цього використаємо набір даних з [наукової статі](https://arxiv.org/abs/1704.05579) «A Large Self-Annotated Corpus for Sarcasm» з понад 1 мільйоном коментарів із платформи Reddit, що позначені авторами статті як саркастичні або ні. Оброблена версія цього набору даних міститься на платформі Kaggle у формі [Набору даних Kaggle](https://www.kaggle.com/datasets/danofer/sarcasm/data)."
   ]
  },
  {
   "cell_type": "markdown",
   "metadata": {},
   "source": [
    "<a class=\"anchor\" id=\"lab-4\"></a>"
   ]
  },
  {
   "cell_type": "markdown",
   "metadata": {},
   "source": [
    "## Зміст\n",
    "\n",
    "- [4.1. Попередній аналіз даних](#lab-4.1)\n",
    "- [4.2. Векторизація TF-IDF та логістична регресія](#lab-4.2)\n",
    "- [4.3. Інтерпретація та порівняння моделі](#lab-4.3)\n",
    "- [4.4. Розширене вдосконалення моделі](#lab-4.4)\n",
    "- [4.5. Практичне застосування результатів інтелектуального аналізу даних](#lab-4.5)"
   ]
  },
  {
   "cell_type": "markdown",
   "metadata": {},
   "source": [
    "Спершу завантажте цільовий набір даних `train-balanced-sarcasm.csv` із ресурсу Kaggle за [посиланням](https://www.kaggle.com/datasets/danofer/sarcasm/data?select=train-balanced-sarcasm.csv). Збережіть файл .csv в теку з робочим файлом лабораторної роботи.\n",
    "\n",
    "Цей набір даних містить 1,3 млн. саркастичних коментарів з платформи інтернет-коментарів Reddit. Набір даних було створено шляхом вилучення коментарів з Reddit, що містять тег `\\s` (\"сарказм\"). Цей тег переважно використовується користувачами, щоб вказати на жартівливий тон їхнього коментаря, тобто такий запис не повинен сприйматися серйозно, і, як правило, є надійним показником саркастичного змісту коментаря.\n",
    "\n",
    "Дані мають збалансовану та незбалансовану (тобто справжній розподіл) версії. Реальне співвідношення несаркастичних до саркастичних коментарів становить приблизно 1:100. Оригінальний набір даних можна додатково отримати за [посиланням](https://github.com/NLPrinceton/SARC), але для лабораторної роботи він нам не потрібен.\n"
   ]
  },
  {
   "cell_type": "code",
   "execution_count": 1,
   "metadata": {
    "_uuid": "ed87ab2845921166bb73ca854bfe1ef013c035e9",
    "ExecuteTime": {
     "end_time": "2023-11-03T12:36:34.086271100Z",
     "start_time": "2023-11-03T12:36:34.069779Z"
    }
   },
   "outputs": [],
   "source": [
    "PATH_TO_DATA = \"train-balanced-sarcasm.csv\""
   ]
  },
  {
   "cell_type": "code",
   "execution_count": 2,
   "metadata": {
    "_uuid": "ffa03aec57ab6150f9bec0fa56cd3a5791a3e6f4",
    "ExecuteTime": {
     "end_time": "2023-11-03T12:36:35.257917Z",
     "start_time": "2023-11-03T12:36:34.089271900Z"
    }
   },
   "outputs": [],
   "source": [
    "# Виконаємо завантаження основних бібліотек\n",
    "import os\n",
    "\n",
    "import numpy as np\n",
    "import pandas as pd\n",
    "from matplotlib import pyplot as plt\n",
    "from sklearn.feature_extraction.text import TfidfVectorizer\n",
    "from sklearn.linear_model import LogisticRegression\n",
    "from sklearn.metrics import accuracy_score\n",
    "from sklearn.model_selection import train_test_split\n",
    "from sklearn.pipeline import Pipeline"
   ]
  },
  {
   "cell_type": "code",
   "execution_count": 3,
   "metadata": {
    "_uuid": "b23e4fc7a1973d60e0c6da8bd60f3d921542a856",
    "ExecuteTime": {
     "end_time": "2023-11-03T12:36:38.223290900Z",
     "start_time": "2023-11-03T12:36:35.260919300Z"
    }
   },
   "outputs": [],
   "source": [
    "train_df = pd.read_csv(PATH_TO_DATA)"
   ]
  },
  {
   "cell_type": "markdown",
   "source": [
    "Нижче переглянемо зразки цільового набору в розрізі основних ознак."
   ],
   "metadata": {
    "collapsed": false
   }
  },
  {
   "cell_type": "code",
   "execution_count": 4,
   "metadata": {
    "_uuid": "4dc7b3787afa46c7eb0d0e33b0c41ab9821c4a27",
    "ExecuteTime": {
     "end_time": "2023-11-03T12:36:38.253258Z",
     "start_time": "2023-11-03T12:36:38.224254500Z"
    }
   },
   "outputs": [
    {
     "data": {
      "text/plain": "   label                                            comment     author  \\\n0      0                                         NC and NH.  Trumpbart   \n1      0  You do know west teams play against west teams...  Shbshb906   \n2      0  They were underdogs earlier today, but since G...   Creepeth   \n3      0  This meme isn't funny none of the \"new york ni...  icebrotha   \n4      0                    I could use one of those tools.  cush2push   \n\n            subreddit  score  ups  downs     date          created_utc  \\\n0            politics      2   -1     -1  2016-10  2016-10-16 23:55:23   \n1                 nba     -4   -1     -1  2016-11  2016-11-01 00:24:10   \n2                 nfl      3    3      0  2016-09  2016-09-22 21:45:37   \n3  BlackPeopleTwitter     -8   -1     -1  2016-10  2016-10-18 21:03:47   \n4  MaddenUltimateTeam      6   -1     -1  2016-12  2016-12-30 17:00:13   \n\n                                      parent_comment  \n0  Yeah, I get that argument. At this point, I'd ...  \n1  The blazers and Mavericks (The wests 5 and 6 s...  \n2                            They're favored to win.  \n3                         deadass don't kill my buzz  \n4  Yep can confirm I saw the tool they use for th...  ",
      "text/html": "<div>\n<style scoped>\n    .dataframe tbody tr th:only-of-type {\n        vertical-align: middle;\n    }\n\n    .dataframe tbody tr th {\n        vertical-align: top;\n    }\n\n    .dataframe thead th {\n        text-align: right;\n    }\n</style>\n<table border=\"1\" class=\"dataframe\">\n  <thead>\n    <tr style=\"text-align: right;\">\n      <th></th>\n      <th>label</th>\n      <th>comment</th>\n      <th>author</th>\n      <th>subreddit</th>\n      <th>score</th>\n      <th>ups</th>\n      <th>downs</th>\n      <th>date</th>\n      <th>created_utc</th>\n      <th>parent_comment</th>\n    </tr>\n  </thead>\n  <tbody>\n    <tr>\n      <th>0</th>\n      <td>0</td>\n      <td>NC and NH.</td>\n      <td>Trumpbart</td>\n      <td>politics</td>\n      <td>2</td>\n      <td>-1</td>\n      <td>-1</td>\n      <td>2016-10</td>\n      <td>2016-10-16 23:55:23</td>\n      <td>Yeah, I get that argument. At this point, I'd ...</td>\n    </tr>\n    <tr>\n      <th>1</th>\n      <td>0</td>\n      <td>You do know west teams play against west teams...</td>\n      <td>Shbshb906</td>\n      <td>nba</td>\n      <td>-4</td>\n      <td>-1</td>\n      <td>-1</td>\n      <td>2016-11</td>\n      <td>2016-11-01 00:24:10</td>\n      <td>The blazers and Mavericks (The wests 5 and 6 s...</td>\n    </tr>\n    <tr>\n      <th>2</th>\n      <td>0</td>\n      <td>They were underdogs earlier today, but since G...</td>\n      <td>Creepeth</td>\n      <td>nfl</td>\n      <td>3</td>\n      <td>3</td>\n      <td>0</td>\n      <td>2016-09</td>\n      <td>2016-09-22 21:45:37</td>\n      <td>They're favored to win.</td>\n    </tr>\n    <tr>\n      <th>3</th>\n      <td>0</td>\n      <td>This meme isn't funny none of the \"new york ni...</td>\n      <td>icebrotha</td>\n      <td>BlackPeopleTwitter</td>\n      <td>-8</td>\n      <td>-1</td>\n      <td>-1</td>\n      <td>2016-10</td>\n      <td>2016-10-18 21:03:47</td>\n      <td>deadass don't kill my buzz</td>\n    </tr>\n    <tr>\n      <th>4</th>\n      <td>0</td>\n      <td>I could use one of those tools.</td>\n      <td>cush2push</td>\n      <td>MaddenUltimateTeam</td>\n      <td>6</td>\n      <td>-1</td>\n      <td>-1</td>\n      <td>2016-12</td>\n      <td>2016-12-30 17:00:13</td>\n      <td>Yep can confirm I saw the tool they use for th...</td>\n    </tr>\n  </tbody>\n</table>\n</div>"
     },
     "execution_count": 4,
     "metadata": {},
     "output_type": "execute_result"
    }
   ],
   "source": [
    "train_df.head()"
   ]
  },
  {
   "cell_type": "code",
   "execution_count": 5,
   "metadata": {
    "_uuid": "0a7ed9557943806c6813ad59c3d5ebdb403ffd78",
    "ExecuteTime": {
     "end_time": "2023-11-03T12:36:38.982483200Z",
     "start_time": "2023-11-03T12:36:38.242261500Z"
    }
   },
   "outputs": [
    {
     "name": "stdout",
     "output_type": "stream",
     "text": [
      "<class 'pandas.core.frame.DataFrame'>\n",
      "RangeIndex: 1010826 entries, 0 to 1010825\n",
      "Data columns (total 10 columns):\n",
      " #   Column          Non-Null Count    Dtype \n",
      "---  ------          --------------    ----- \n",
      " 0   label           1010826 non-null  int64 \n",
      " 1   comment         1010773 non-null  object\n",
      " 2   author          1010826 non-null  object\n",
      " 3   subreddit       1010826 non-null  object\n",
      " 4   score           1010826 non-null  int64 \n",
      " 5   ups             1010826 non-null  int64 \n",
      " 6   downs           1010826 non-null  int64 \n",
      " 7   date            1010826 non-null  object\n",
      " 8   created_utc     1010826 non-null  object\n",
      " 9   parent_comment  1010826 non-null  object\n",
      "dtypes: int64(4), object(6)\n",
      "memory usage: 77.1+ MB\n"
     ]
    }
   ],
   "source": [
    "train_df.info()"
   ]
  },
  {
   "cell_type": "markdown",
   "metadata": {
    "_uuid": "6472f52fb5ecb8bb2a6e3b292678a2042fcfe34c"
   },
   "source": [
    "Деяких коментарів бракує в наборі, тому ми видалимо відповідні рядки."
   ]
  },
  {
   "cell_type": "code",
   "execution_count": 6,
   "metadata": {
    "_uuid": "97b2d85627fcde52a506dbdd55d4d6e4c87d3f08",
    "ExecuteTime": {
     "end_time": "2023-11-03T12:36:39.300998Z",
     "start_time": "2023-11-03T12:36:38.968481300Z"
    }
   },
   "outputs": [],
   "source": [
    "train_df.dropna(subset=[\"comment\"], inplace=True)"
   ]
  },
  {
   "cell_type": "markdown",
   "metadata": {
    "_uuid": "9d51637ee70dca7693737ad0da1dbb8c6ce9230b"
   },
   "source": [
    "Переконаємось, що розглядуваний набір даних є справді збалансованим."
   ]
  },
  {
   "cell_type": "code",
   "execution_count": 7,
   "metadata": {
    "_uuid": "addd77c640423d30fd146c8d3a012d3c14481e11",
    "ExecuteTime": {
     "end_time": "2023-11-03T12:36:39.322997900Z",
     "start_time": "2023-11-03T12:36:39.306000800Z"
    }
   },
   "outputs": [
    {
     "data": {
      "text/plain": "0    505405\n1    505368\nName: label, dtype: int64"
     },
     "execution_count": 7,
     "metadata": {},
     "output_type": "execute_result"
    }
   ],
   "source": [
    "train_df[\"label\"].value_counts()"
   ]
  },
  {
   "cell_type": "markdown",
   "metadata": {
    "_uuid": "5b836574e5093c5eb2e9063fefe1c8d198dcba79"
   },
   "source": [
    "Розділимо дані на частини для навчання та валідації."
   ]
  },
  {
   "cell_type": "code",
   "execution_count": 8,
   "metadata": {
    "_uuid": "c200add4e1dcbaa75164bbcc73b9c12ecb863c96",
    "ExecuteTime": {
     "end_time": "2023-11-03T12:36:39.591505Z",
     "start_time": "2023-11-03T12:36:39.312999400Z"
    }
   },
   "outputs": [],
   "source": [
    "train_texts, valid_texts, y_train, y_valid = train_test_split(\n",
    "    train_df[\"comment\"], train_df[\"label\"], random_state=17\n",
    ")"
   ]
  },
  {
   "cell_type": "markdown",
   "metadata": {},
   "source": [
    "<a class=\"anchor\" id=\"lab-4.1\"></a>"
   ]
  },
  {
   "cell_type": "markdown",
   "metadata": {
    "_uuid": "ba1a8f65032c5954476a68e01b607655145b746d"
   },
   "source": [
    "## <span style=\"color:blue; font-size:1.2em;\">4.1. Попередній аналіз даних</span>\n",
    "\n",
    "[Повернутися до змісту](#lab-4)"
   ]
  },
  {
   "cell_type": "code",
   "execution_count": 9,
   "metadata": {
    "_uuid": "c2c613ee2052a2c0379682adf5c23d1f751f4c3b",
    "ExecuteTime": {
     "end_time": "2023-11-03T12:36:39.625505200Z",
     "start_time": "2023-11-03T12:36:39.595508900Z"
    }
   },
   "outputs": [],
   "source": [
    "from wordcloud import STOPWORDS, WordCloud"
   ]
  },
  {
   "cell_type": "code",
   "execution_count": 10,
   "metadata": {
    "_uuid": "ae7333d67f6a17673d2aa16aed3017e2fbef9b58",
    "ExecuteTime": {
     "end_time": "2023-11-03T12:36:39.643997300Z",
     "start_time": "2023-11-03T12:36:39.624504800Z"
    }
   },
   "outputs": [],
   "source": [
    "# Підготуємо об'єкт класу WordCloud для \n",
    "# можливого візуального аналізу  \n",
    "my_wordcloud = WordCloud(\n",
    "    background_color=\"black\",\n",
    "    stopwords=STOPWORDS,\n",
    "    max_words=200,\n",
    "    max_font_size=100,\n",
    "    random_state=17,\n",
    "    width=800,\n",
    "    height=400,\n",
    ")"
   ]
  },
  {
   "cell_type": "markdown",
   "metadata": {},
   "source": [
    "<span style=\"color:red; font-size:2em;\">Завдання 1</span>\n",
    "\n",
    "**Для всіх варіантів:**\n",
    "\n",
    "У завданні 1 вам потрібно проаналізувати та підготувати набір даних для подальшої побудови моделей інтелектуального аналізу даних.\n",
    "\n",
    "**Для варіантів 1-2:**\n",
    "\n",
    "Проаналізуйте використання в текстах хештегів, URLs, емоджі та згадок користувачів (символ - @).\n",
    "\n",
    "**Для варіантів 3-4:**\n",
    "\n",
    "Векторизуйте текст на слова. Обрахуйте та візуалізуйте 20 найбільш вживаних слів.\n",
    "\n",
    "**Для варіантів 5-6:**\n",
    "\n",
    "Візуалізуйте розподіли саркастичних і нормальних коментарів.\n",
    "\n",
    "**Для варіантів 7-8:**\n",
    "\n",
    "Проаналізуйте, чи є деякі субредити в середньому більш «саркастичними», ніж інші.\n",
    "\n",
    "**Для варіантів 9-10:**\n",
    "\n",
    "Візуалізуйте хмарне подання слів для кожного класу.\n",
    "\n",
    "**Для варіантів 11-12:**\n",
    "\n",
    "Видаліть загальні стоп-слова з текстових даних.\n",
    "\n",
    "**Для варіантів 13-14:**\n",
    "\n",
    "Дослідіть та візуалізуйте розподіли довжини тексту для різних класів.\n",
    "\n",
    "**Для варіантів 15-16:**\n",
    "\n",
    "Напишіть функцію для очищення текстових даних (видалення спеціальних символів, нижнього регістру тощо).\n",
    "\n",
    "**Для варіантів 17-18:**\n",
    "\n",
    "Створіть хмару слів для найуживаніших слів у класі \"Саркастичний\".\n",
    "\n",
    "**Для варіантів 19-20:**\n",
    "\n",
    "Проаналізуйте, чи є деякі автори в середньому більш саркастичними, ніж інші.\n"
   ]
  },
  {
   "cell_type": "markdown",
   "metadata": {},
   "source": [
    "<a class=\"anchor\" id=\"lab-4.2\"></a>"
   ]
  },
  {
   "cell_type": "markdown",
   "metadata": {
    "_uuid": "416321f19f5a27290bc5622e8b3384b7bbbd28c6"
   },
   "source": [
    "## <span style=\"color:blue; font-size:1.2em;\">4.2. Векторизація TF-IDF та логістична регресія</span>\n",
    "\n",
    "[Повернутися до змісту](#lab-4)"
   ]
  },
  {
   "cell_type": "code",
   "execution_count": 11,
   "metadata": {
    "_uuid": "3048a070a56b08eb4e5fe2c54b6d14905031e74a",
    "ExecuteTime": {
     "end_time": "2023-11-03T12:36:39.664997200Z",
     "start_time": "2023-11-03T12:36:39.640791400Z"
    }
   },
   "outputs": [],
   "source": [
    "# Побудуємо біграми, обмежимо максимальну кількість ознак\n",
    "# і мінімальну частоту слів\n",
    "tf_idf = TfidfVectorizer(ngram_range=(1, 2), max_features=50000, min_df=2)\n",
    "# Створимо об'єкт мультиноміальної логістичної регресії,\n",
    "# яка також відома як класифікатор softmax\n",
    "logit = LogisticRegression(C=1, n_jobs=4, solver=\"lbfgs\", random_state=17, verbose=1)\n",
    "# Задамо sklearn's pipeline\n",
    "tfidf_logit_pipeline = Pipeline([(\"tf_idf\", tf_idf), (\"logit\", logit)])"
   ]
  },
  {
   "cell_type": "code",
   "execution_count": 12,
   "metadata": {
    "_uuid": "8756bac7457218e4daf08ec276211f03971c17fb",
    "ExecuteTime": {
     "end_time": "2023-11-03T12:37:06.060861400Z",
     "start_time": "2023-11-03T12:36:39.653997300Z"
    }
   },
   "outputs": [
    {
     "name": "stderr",
     "output_type": "stream",
     "text": [
      "[Parallel(n_jobs=4)]: Using backend LokyBackend with 4 concurrent workers.\n"
     ]
    },
    {
     "name": "stdout",
     "output_type": "stream",
     "text": [
      "CPU times: total: 17.5 s\n",
      "Wall time: 26.4 s\n"
     ]
    },
    {
     "data": {
      "text/plain": "Pipeline(steps=[('tf_idf',\n                 TfidfVectorizer(max_features=50000, min_df=2,\n                                 ngram_range=(1, 2))),\n                ('logit',\n                 LogisticRegression(C=1, n_jobs=4, random_state=17,\n                                    verbose=1))])",
      "text/html": "<style>#sk-container-id-1 {color: black;background-color: white;}#sk-container-id-1 pre{padding: 0;}#sk-container-id-1 div.sk-toggleable {background-color: white;}#sk-container-id-1 label.sk-toggleable__label {cursor: pointer;display: block;width: 100%;margin-bottom: 0;padding: 0.3em;box-sizing: border-box;text-align: center;}#sk-container-id-1 label.sk-toggleable__label-arrow:before {content: \"▸\";float: left;margin-right: 0.25em;color: #696969;}#sk-container-id-1 label.sk-toggleable__label-arrow:hover:before {color: black;}#sk-container-id-1 div.sk-estimator:hover label.sk-toggleable__label-arrow:before {color: black;}#sk-container-id-1 div.sk-toggleable__content {max-height: 0;max-width: 0;overflow: hidden;text-align: left;background-color: #f0f8ff;}#sk-container-id-1 div.sk-toggleable__content pre {margin: 0.2em;color: black;border-radius: 0.25em;background-color: #f0f8ff;}#sk-container-id-1 input.sk-toggleable__control:checked~div.sk-toggleable__content {max-height: 200px;max-width: 100%;overflow: auto;}#sk-container-id-1 input.sk-toggleable__control:checked~label.sk-toggleable__label-arrow:before {content: \"▾\";}#sk-container-id-1 div.sk-estimator input.sk-toggleable__control:checked~label.sk-toggleable__label {background-color: #d4ebff;}#sk-container-id-1 div.sk-label input.sk-toggleable__control:checked~label.sk-toggleable__label {background-color: #d4ebff;}#sk-container-id-1 input.sk-hidden--visually {border: 0;clip: rect(1px 1px 1px 1px);clip: rect(1px, 1px, 1px, 1px);height: 1px;margin: -1px;overflow: hidden;padding: 0;position: absolute;width: 1px;}#sk-container-id-1 div.sk-estimator {font-family: monospace;background-color: #f0f8ff;border: 1px dotted black;border-radius: 0.25em;box-sizing: border-box;margin-bottom: 0.5em;}#sk-container-id-1 div.sk-estimator:hover {background-color: #d4ebff;}#sk-container-id-1 div.sk-parallel-item::after {content: \"\";width: 100%;border-bottom: 1px solid gray;flex-grow: 1;}#sk-container-id-1 div.sk-label:hover label.sk-toggleable__label {background-color: #d4ebff;}#sk-container-id-1 div.sk-serial::before {content: \"\";position: absolute;border-left: 1px solid gray;box-sizing: border-box;top: 0;bottom: 0;left: 50%;z-index: 0;}#sk-container-id-1 div.sk-serial {display: flex;flex-direction: column;align-items: center;background-color: white;padding-right: 0.2em;padding-left: 0.2em;position: relative;}#sk-container-id-1 div.sk-item {position: relative;z-index: 1;}#sk-container-id-1 div.sk-parallel {display: flex;align-items: stretch;justify-content: center;background-color: white;position: relative;}#sk-container-id-1 div.sk-item::before, #sk-container-id-1 div.sk-parallel-item::before {content: \"\";position: absolute;border-left: 1px solid gray;box-sizing: border-box;top: 0;bottom: 0;left: 50%;z-index: -1;}#sk-container-id-1 div.sk-parallel-item {display: flex;flex-direction: column;z-index: 1;position: relative;background-color: white;}#sk-container-id-1 div.sk-parallel-item:first-child::after {align-self: flex-end;width: 50%;}#sk-container-id-1 div.sk-parallel-item:last-child::after {align-self: flex-start;width: 50%;}#sk-container-id-1 div.sk-parallel-item:only-child::after {width: 0;}#sk-container-id-1 div.sk-dashed-wrapped {border: 1px dashed gray;margin: 0 0.4em 0.5em 0.4em;box-sizing: border-box;padding-bottom: 0.4em;background-color: white;}#sk-container-id-1 div.sk-label label {font-family: monospace;font-weight: bold;display: inline-block;line-height: 1.2em;}#sk-container-id-1 div.sk-label-container {text-align: center;}#sk-container-id-1 div.sk-container {/* jupyter's `normalize.less` sets `[hidden] { display: none; }` but bootstrap.min.css set `[hidden] { display: none !important; }` so we also need the `!important` here to be able to override the default hidden behavior on the sphinx rendered scikit-learn.org. See: https://github.com/scikit-learn/scikit-learn/issues/21755 */display: inline-block !important;position: relative;}#sk-container-id-1 div.sk-text-repr-fallback {display: none;}</style><div id=\"sk-container-id-1\" class=\"sk-top-container\"><div class=\"sk-text-repr-fallback\"><pre>Pipeline(steps=[(&#x27;tf_idf&#x27;,\n                 TfidfVectorizer(max_features=50000, min_df=2,\n                                 ngram_range=(1, 2))),\n                (&#x27;logit&#x27;,\n                 LogisticRegression(C=1, n_jobs=4, random_state=17,\n                                    verbose=1))])</pre><b>In a Jupyter environment, please rerun this cell to show the HTML representation or trust the notebook. <br />On GitHub, the HTML representation is unable to render, please try loading this page with nbviewer.org.</b></div><div class=\"sk-container\" hidden><div class=\"sk-item sk-dashed-wrapped\"><div class=\"sk-label-container\"><div class=\"sk-label sk-toggleable\"><input class=\"sk-toggleable__control sk-hidden--visually\" id=\"sk-estimator-id-1\" type=\"checkbox\" ><label for=\"sk-estimator-id-1\" class=\"sk-toggleable__label sk-toggleable__label-arrow\">Pipeline</label><div class=\"sk-toggleable__content\"><pre>Pipeline(steps=[(&#x27;tf_idf&#x27;,\n                 TfidfVectorizer(max_features=50000, min_df=2,\n                                 ngram_range=(1, 2))),\n                (&#x27;logit&#x27;,\n                 LogisticRegression(C=1, n_jobs=4, random_state=17,\n                                    verbose=1))])</pre></div></div></div><div class=\"sk-serial\"><div class=\"sk-item\"><div class=\"sk-estimator sk-toggleable\"><input class=\"sk-toggleable__control sk-hidden--visually\" id=\"sk-estimator-id-2\" type=\"checkbox\" ><label for=\"sk-estimator-id-2\" class=\"sk-toggleable__label sk-toggleable__label-arrow\">TfidfVectorizer</label><div class=\"sk-toggleable__content\"><pre>TfidfVectorizer(max_features=50000, min_df=2, ngram_range=(1, 2))</pre></div></div></div><div class=\"sk-item\"><div class=\"sk-estimator sk-toggleable\"><input class=\"sk-toggleable__control sk-hidden--visually\" id=\"sk-estimator-id-3\" type=\"checkbox\" ><label for=\"sk-estimator-id-3\" class=\"sk-toggleable__label sk-toggleable__label-arrow\">LogisticRegression</label><div class=\"sk-toggleable__content\"><pre>LogisticRegression(C=1, n_jobs=4, random_state=17, verbose=1)</pre></div></div></div></div></div></div></div>"
     },
     "execution_count": 12,
     "metadata": {},
     "output_type": "execute_result"
    }
   ],
   "source": [
    "%%time\n",
    "tfidf_logit_pipeline.fit(train_texts, y_train)"
   ]
  },
  {
   "cell_type": "code",
   "execution_count": 13,
   "metadata": {
    "_uuid": "d2e47f77f999c2fb5aee9ef1de1542bc93de4c98",
    "ExecuteTime": {
     "end_time": "2023-11-03T12:37:09.730878Z",
     "start_time": "2023-11-03T12:37:06.061862600Z"
    }
   },
   "outputs": [
    {
     "name": "stdout",
     "output_type": "stream",
     "text": [
      "CPU times: total: 3.55 s\n",
      "Wall time: 3.66 s\n"
     ]
    }
   ],
   "source": [
    "%%time\n",
    "valid_pred = tfidf_logit_pipeline.predict(valid_texts)"
   ]
  },
  {
   "cell_type": "code",
   "execution_count": 14,
   "metadata": {
    "_uuid": "a8f93efc3db12910eaa6d7944feebb2418714203",
    "ExecuteTime": {
     "end_time": "2023-11-03T12:37:09.786226600Z",
     "start_time": "2023-11-03T12:37:09.732878700Z"
    }
   },
   "outputs": [
    {
     "name": "stdout",
     "output_type": "stream",
     "text": [
      "Точність за даними валідації:  0.7210\n"
     ]
    }
   ],
   "source": [
    "print(f\"Точність за даними валідації: {accuracy_score(y_valid, valid_pred): .4f}\")"
   ]
  },
  {
   "cell_type": "markdown",
   "metadata": {},
   "source": [
    "<span style=\"color:red; font-size:2em;\">Завдання 2</span>\n",
    "\n",
    "**Для всіх варіантів:**\n",
    "\n",
    "У завданні 2 вам потрібно доповнити побудовані на попередньому кроці векторизатор та модель логістичної регресії.\n",
    "\n",
    "**Для варіантів 1-2:**\n",
    "\n",
    "Використайте N-грами у векторизаторі TF-IDF та поясніть, як вони працюють.\n",
    "\n",
    "**Для варіантів 3-4:**\n",
    "\n",
    "Дослідіть вплив регулярізації L1 (Lasso) і L2 (Ridge) на побудовану модель логістичної регресії. Зробіть висновок щодо впливу певного типу регулярізації (Lasso та Ridge) на результат моделювання.\n",
    "\n",
    "**Для варіантів 5-6:**\n",
    "\n",
    "Проведіть експерименти з параметром `max_features` у векторизаторі TF-IDF і зробіть висновок щодо його впливу на кількість ознак.\n",
    "\n",
    "**Для варіантів 7-8:**\n",
    "\n",
    "Проведіть експерименти з різними пороговими значеннями для моделі логістичної регресії. Дослідіть, як зміна порогу впливає на частку правильних відповідей, яку генерує побудована модель.\n",
    "**Для варіантів 9-10:**\n",
    "\n",
    "Застосуйте k-кратну перехресну перевірку (k-fold cross-validation) до побудованої моделі логістичної регресії та порівняйте результати за валідаційним набором. Якими є переваги та недоліки перехресної перевірки.\n",
    "\n",
    "**Для варіантів 11-12:**\n",
    "\n",
    "Інтерпретуйте результати моделі логістичної регресії, з огляду на значення коефіцієнтів цієї моделі. Як отримані значення вплинули на результат задачі класифікації?\n",
    "\n",
    "**Для варіантів 13-14:**\n",
    "\n",
    "Візуалізуйте та інтерпретуйте криві навчання та валідації побудованої логістичної регресії.\n",
    "\n",
    "**Для варіантів 15-16:**\n",
    "\n",
    "Налаштуйте наявні гіперпараметри моделі логістичної регресії за механізмом `GridSearchCV`.\n",
    "\n",
    "**Для варіантів 17-18:**\n",
    "\n",
    "Вилучіть та візуалізуйте назви ознак із векторизатора TF-IDF.\n",
    "\n",
    "**Для варіантів 19-20:**\n",
    "\n",
    "Проаналізуйте ознаки, які були створені векторизатором TF-IDF. Дослідіть вплив різних слів та їхні відповідні TF-IDF-оцінки.\n"
   ]
  },
  {
   "cell_type": "markdown",
   "metadata": {},
   "source": [
    "<a class=\"anchor\" id=\"lab-4.3\"></a>"
   ]
  },
  {
   "cell_type": "markdown",
   "metadata": {
    "_uuid": "fefd0178f43ce832031653be70f0a0e47f62cf4c"
   },
   "source": [
    "## <span style=\"color:blue; font-size:1.2em;\">4.3. Інтерпретація та порівняння моделі</span>\n",
    "\n",
    "[Повернутися до змісту](#lab-4)"
   ]
  },
  {
   "cell_type": "code",
   "execution_count": 15,
   "metadata": {
    "_uuid": "247a13fd3ae4d5c015c0ca0489a9a95d72ad7e9f",
    "ExecuteTime": {
     "end_time": "2023-11-03T12:37:09.786226600Z",
     "start_time": "2023-11-03T12:37:09.766102800Z"
    }
   },
   "outputs": [],
   "source": [
    "# Довідково: Нижче подамо матрицю невідповідностей\n",
    "def plot_confusion_matrix(\n",
    "    actual,\n",
    "    predicted,\n",
    "    classes,\n",
    "    normalize=False,\n",
    "    title=\"Confusion matrix\",\n",
    "    figsize=(7, 7),\n",
    "    cmap=plt.cm.Blues,\n",
    "    path_to_save_fig=None,\n",
    "):\n",
    "    \"\"\"\n",
    "    This function prints and plots the confusion matrix.\n",
    "    Normalization can be applied by setting `normalize=True`.\n",
    "    \"\"\"\n",
    "    import itertools\n",
    "\n",
    "    from sklearn.metrics import confusion_matrix\n",
    "\n",
    "    cm = confusion_matrix(actual, predicted).T\n",
    "    if normalize:\n",
    "        cm = cm.astype(\"float\") / cm.sum(axis=1)[:, np.newaxis]\n",
    "\n",
    "    plt.figure(figsize=figsize)\n",
    "    plt.imshow(cm, interpolation=\"nearest\", cmap=cmap)\n",
    "    plt.title(title)\n",
    "    plt.colorbar()\n",
    "    tick_marks = np.arange(len(classes))\n",
    "    plt.xticks(tick_marks, classes, rotation=90)\n",
    "    plt.yticks(tick_marks, classes)\n",
    "\n",
    "    fmt = \".2f\" if normalize else \"d\"\n",
    "    thresh = cm.max() / 2.0\n",
    "    for i, j in itertools.product(range(cm.shape[0]), range(cm.shape[1])):\n",
    "        plt.text(\n",
    "            j,\n",
    "            i,\n",
    "            format(cm[i, j], fmt),\n",
    "            horizontalalignment=\"center\",\n",
    "            color=\"white\" if cm[i, j] > thresh else \"black\",\n",
    "        )\n",
    "\n",
    "    plt.tight_layout()\n",
    "    plt.ylabel(\"Predicted label\")\n",
    "    plt.xlabel(\"True label\")\n",
    "\n",
    "    if path_to_save_fig:\n",
    "        plt.savefig(path_to_save_fig, dpi=300, bbox_inches=\"tight\")"
   ]
  },
  {
   "cell_type": "markdown",
   "metadata": {},
   "source": [
    "<span style=\"color:red; font-size:2em;\">Завдання 3</span>\n",
    "\n",
    "**Для всіх варіантів:**\n",
    "\n",
    "У завданні 3 вам потрібно інтерпретувати отримані результати щодо передбачення саркастичного тексту.\n",
    "\n",
    "**Для варіантів 1-2:**\n",
    "\n",
    "Візуалізуйте на одному графіку криві навчання та валідації побудованої регресійної моделі. Порівняйте обидві криві, зробіть висновок щодо якості навченої моделі.\n",
    "\n",
    "**Для варіантів 3-4:**\n",
    "\n",
    "Обрахуйте та інтерпретуйте співвідношення шансів для конкретних ознак, з огляду на те як вони пов’язані з можливістю зустріти саркастичний текст.\n",
    "\n",
    "**Для варіантів 5-6:**\n",
    "\n",
    "Виконайте візуальний аналіз тих випадків, за яких модель логістичної регресії дала неправильні прогнози, і запропонуйте стратегії для покращення ефективності моделі на основі цього аналізу.\n",
    "\n",
    "**Для варіантів 7-8:**\n",
    "\n",
    "Побудуйте модель дерева рішень на тих самих даних. Порівняйте її ефективність із моделлю логістичної регресії та обговоріть плюси та мінуси кожної моделі.\n",
    "\n",
    "**Для варіантів 9-10:**\n",
    "\n",
    "Побудуйте графіки часткової залежності ([partial dependence plots (PDP)](https://scikit-learn.org/stable/modules/partial_dependence.html#:~:text=Partial%20dependence%20plots%20(PDP)%20show,the%20'complement'%20features).)) для 5 найбільш значущих ознак у побудованій моделі логістичної регресії. Поясніть, як PDP відображають зв’язок між ознакою та прогнозованим результатом, зберігаючи інші ознаки незмінними. Інтерпретуйте ці графіки для розглядуваної задачі виявлення сарказму.\n",
    "\n",
    "**Для варіантів 11-12:**\n",
    "\n",
    "Оцініть побудовану модель логістичної регресії за допомогою кількох статистичних метрик (accuracy, precision, recall, F1-score) та зробіть висновок щодо якості моделі з огляду на значення цих метрик. Для виконання завдання використайте клас [sklearn.metrics](https://scikit-learn.org/stable/modules/classes.html#module-sklearn.metrics) бібліотеки scikit-learn.\n",
    "\n",
    "**Для варіантів 13-14:**\n",
    "\n",
    "Проаналізуйте та інтерпретуйте ті випадки, які побудована модель логістичної регресії класифікувала неправильно.\n",
    "\n",
    "**Для варіантів 15-16:**\n",
    "\n",
    "Побудуйте та інтерпретуйте криві навчання та валідації для побудованої моделі логістичної регресії. Проаналізуйте, що ці криві відображають з огляду на ефективність моделі та її можливе недонавчання або перенавчання.\n",
    "\n",
    "**Для варіантів 17-18:**\n",
    "\n",
    "Виконайте візуальний аналіз помилок побудованої моделі. Запропонуйте та реалізуйте стратегії для покращення моделі та переобрахуйте її для розв'язання задачі виявлення саркастичних текстів.\n",
    "\n",
    "**Для варіантів 19-20:**\n",
    "\n",
    "Побудуйте модель лінійної регресії на тих самих даних, перетворивши цільову змінну за необхідності. Порівняйте ефективність моделі лінійної регресії із моделлю логістичної регресії та обговоріть, чому лінійна регресія може бути непридатною для цього завдання.\n"
   ]
  },
  {
   "cell_type": "markdown",
   "metadata": {},
   "source": [
    "<a class=\"anchor\" id=\"lab-4.4\"></a>"
   ]
  },
  {
   "cell_type": "markdown",
   "metadata": {
    "_uuid": "5648f6ad7a14ef3a582909f7c0c72c4fc80204aa"
   },
   "source": [
    "## <span style=\"color:blue; font-size:1.2em;\">4.4. Розширене вдосконалення моделі</span>\n",
    "\n",
    "[Повернутися до змісту](#lab-4)"
   ]
  },
  {
   "cell_type": "markdown",
   "metadata": {},
   "source": [
    "<span style=\"color:red; font-size:2em;\">Завдання 4</span>\n",
    "\n",
    "**Для всіх варіантів:**\n",
    "\n",
    "У завданні 4 вам потрібно використати різноманітні програмні механізми для покращення роботи моделі.\n",
    "\n",
    "**Для варіантів 1-2:**\n",
    "\n",
    "Побудуйте векторизатори TF-IDF окремо для коментарів і субредітів. Далі об’єднайте ці новостворені ознаки разом та побудуйте нову модель логістичної регресії з використанням [sklearn.pipeline.Pipeline](https://scikit-learn.org/stable/modules/generated/sklearn.pipeline.Pipeline.html). Порівняйте результати роботи нової моделі із початковою за показником частки правильних відповідей.\n",
    "\n",
    "**Для варіантів 3-4:**\n",
    "\n",
    "Проаналізуйте вплив ознак рівня символів, таких як n-грами символів, на ефективність класифікації за моделлю логістичної регресії. Перевірте гіпотезу про те, що певні шаблони символів вказують на сарказм у тексті.\n",
    "\n",
    "**Для варіантів 5-6:**\n",
    "\n",
    "Використайте альтернативний векторизатор зі списку [sklearn.feature_extraction.text](https://scikit-learn.org/stable/modules/classes.html#module-sklearn.feature_extraction.text) для подання тексту в числовий формат. Побудуйте нову модель логістичної регресії та проведіть за нею класифікацію текстів на предмет наявності сарказму. Порівняйте результати класифікації за новою моделлю (з новим векторизатором) з результатами класифікації початкової моделі.\n",
    "\n",
    "**Для варіантів 7-8:**\n",
    "\n",
    "Побудуйте та інтерпретуйте шлях регуляризації для моделі логістичної регресії. Використайте цей аналіз, щоб вибрати відповідний рівень регуляризації.\n",
    "\n",
    "**Для варіантів 9-10:**\n",
    "\n",
    "Порівняйте побудовану модель логістичної регресії з іншою моделлю (дерево рішень, лінійна регресія, k-найближчих сусідів тощо) за показником частки правильних відповідей. Зробіть висновок щодо ефективності роботи моделей.\n",
    "\n",
    "**Для варіантів 11-12:**\n",
    "\n",
    "Використайте техніки урізноманітнення текстових даних ([data augmentation](https://neptune.ai/blog/data-augmentation-in-python)), щоб збільшити розмір і різноманітність навчальних даних. Обговоріть обрані методи та їхній вплив на роботу моделі.\n",
    "\n",
    "**Для варіантів 13-14:**\n",
    "\n",
    "Застосуйте такі механізми обробки текстової інформації, як виправлення орфографії чи нормалізація сленгу. Проаналізуйте їх вплив на ефективність моделі логістичної регресії.\n",
    "\n",
    "**Для варіантів 15-16:**\n",
    "\n",
    "Визначте та відфільтруйте викиди в наборі даних. Обґрунтуйте обрання методу виявлення викидів та проаналізуйте його вплив на ефективність моделі.\n",
    "\n",
    "**Для варіантів 17-18:**\n",
    "\n",
    "Виконайте стратифіковану k-кратну перехресну перевірку (stratified k-fold cross-validation), щоб забезпечити збереження розподілу класів у кожній складці. Проаналізуйте вплив стратифікації на результат моделі.\n",
    "\n",
    "**Для варіантів 19-20:**\n",
    "\n",
    "Відкалібруйте результати ймовірностей за допомогою моделі логістичної регресії, використовуючи такі методи, як ізотонічна регресія ([Isotonic regression](https://scikit-learn.org/stable/modules/isotonic.html)) або масштабування Платта ([Platt scaling](https://scikit-learn.org/stable/modules/generated/sklearn.calibration.CalibratedClassifierCV.html)). Проаналізуйте важливість добре відкаліброваних ймовірностей та їх вплив на ефективність моделі.\n"
   ]
  },
  {
   "cell_type": "markdown",
   "metadata": {},
   "source": [
    "<a class=\"anchor\" id=\"lab-4.5\"></a>"
   ]
  },
  {
   "cell_type": "markdown",
   "metadata": {},
   "source": [
    "## <span style=\"color:blue; font-size:1.2em;\">4.5. Практичне застосування результатів інтелектуального аналізу даних</span>\n",
    "\n",
    "[Повернутися до змісту](#lab-4)"
   ]
  },
  {
   "cell_type": "markdown",
   "metadata": {},
   "source": [
    "<span style=\"color:red; font-size:2em;\">Завдання 5</span>\n",
    "\n",
    "У завданні 5 поміркуйте над застосуванням моделі логістичної регресії (і не тільки) для розв'язання практичних завдань. Проаналізуйте складнощі, що пов’язані з цією проблемою.\n",
    "\n",
    "**Для варіанту 1:**\n",
    "\n",
    "Запропонуйте технічні кроки для розгортання побудованої моделі у виробничому середовищі.\n",
    "\n",
    "**Для варіанту 2:**\n",
    "\n",
    "Обговоріть стратегії адаптації моделі до роботи з текстом на різних мовах, з огляду на додаткові виклики та складнощі, що із цим пов’язані.\n",
    "\n",
    "**Для варіанту 3:**\n",
    "\n",
    "Запропонуйте стратегії налаштування моделі для постійного навчання та вдосконалення на основі відгуків користувачів або нових даних.\n",
    "\n",
    "**Для варіанту 4:**\n",
    "\n",
    "Запропонуйте як налаштувати моніторинг розгорнутої моделі та стратегії постійної підтримки моделі.\n",
    "\n",
    "**Для варіанту 5:**\n",
    "\n",
    "Оцініть модель логістичної регресії, з огляду на її ефективність, користувацький досвід та етичні міркування, щоб отримати цілісне уявлення про її застосовність і можливість для вдосконалення.\n",
    "\n",
    "**Для варіанту 6:**\n",
    "\n",
    "Запропонуйте стратегії, які могли б забезпечити високу постійну точність моделі, з огляду на те, що основні дані змінюються із часом.\n",
    "\n",
    "**Для варіанту 7:**\n",
    "\n",
    "Оцініть стійкість моделі до атак зловмисників, коли вхідним текстом навмисно маніпулюють, щоб ввести модель в оману. Проаналізуйте стратегії, щоб зробити модель більш стійкою до таких атак.\n",
    "\n",
    "**Для варіанту 8:**\n",
    "\n",
    "Запропонуйте, як можна використати відгуки користувачів для покращення моделі та підвищення її ефективності.\n",
    "\n",
    "**Для варіанту 9:**\n",
    "\n",
    "Переконайтеся, що модель і її розгортання відповідають відповідним правовим і регуляторним стандартам, особливо щодо конфіденційності та безпеки даних користувачів.\n",
    "\n",
    "**Для варіанту 10:**\n",
    "\n",
    "Запропонуйте нові шляхи для виявлення сарказму в тексті.\n",
    "\n",
    "**Для варіанту 11:**\n",
    "\n",
    "Оцініть потенційні упередження в моделі в разі застосування в реальних сценаріях виявлення сарказму та обговоріть стратегії для забезпечення справедливості прийняття рішень.\n",
    "\n",
    "**Для варіанту 12:**\n",
    "\n",
    "Обговоріть майбутні тенденції та нові технології, які можуть вплинути на сферу класифікації текстів і виявлення сарказму. Запропонуйте шляхи інтеграції цих досягнень у поточний робочий процес.\n",
    "\n",
    "**Для варіанту 13:**\n",
    "\n",
    "Оцініть стійкість моделі до можливих негативних зовнішніх впливів.\n",
    "\n",
    "**Для варіанту 14:**\n",
    "\n",
    "Виділіть як мінімум 5 етичних проблем, що пов’язані із застосуванням моделі в реальних сценаріях.\n",
    "\n",
    "**Для варіанту 15:**\n",
    "\n",
    "Обговоріть важливість пояснюваності та прозорості моделі, особливо в тих програмних застосунках, де користувачі взаємодіють із моделлю. Запропонуйте шляхи покращення цих аспектів.\n",
    "\n",
    "**Для варіанту 16:**\n",
    "\n",
    "Обговоріть, які показники ефективності є найбільш важливими під час практичного використання моделей інтелектуального аналізу даних (і чому вони такими є), з огляду на конкретний контекст виявлення сарказму.\n",
    "\n",
    "**Для варіанту 17:**\n",
    "\n",
    "Оцініть масштабованість моделі та обговоріть будь-які необхідні механізми оптимізації для ефективної роботи в реальних умовах.\n",
    "\n",
    "**Для варіанту 18:**\n",
    "\n",
    "Проаналізуйте потенційні проблеми безпеки, що пов’язані з розгортанням моделі, і запропонуйте стратегії для їхнього вирішення.\n",
    "\n",
    "**Для варіанту 19:**\n",
    "\n",
    "Проаналізуйте стратегії роботи з двозначністю та важливість контексту для виявлення сарказму.\n",
    "\n",
    "**Для варіанту 20:**\n",
    "\n",
    "Проаналізуйте можливість розширення моделі для включення інших модальностей (наприклад, зображення, аудіо) для виявлення саркастичних текстів.\n"
   ]
  }
 ],
 "metadata": {
  "kernelspec": {
   "display_name": "Python 3 (ipykernel)",
   "language": "python",
   "name": "python3"
  },
  "language_info": {
   "codemirror_mode": {
    "name": "ipython",
    "version": 3
   },
   "file_extension": ".py",
   "mimetype": "text/x-python",
   "name": "python",
   "nbconvert_exporter": "python",
   "pygments_lexer": "ipython3",
   "version": "3.9.16"
  }
 },
 "nbformat": 4,
 "nbformat_minor": 4
}
